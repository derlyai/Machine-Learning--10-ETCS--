{
 "cells": [
  {
   "cell_type": "markdown",
   "id": "1d0135e9",
   "metadata": {},
   "source": [
    "*Student Full Name: Derly Milded Montealegre Gonzalez \n",
    "*Student Number: 2024151 \n",
    "*Module Title: Statistical Techniques for Data Analysis\n",
    "*Assessment Title: CA 1 \n",
    "*Assessment Due Date: 20 March 2024 \n",
    "*Date of Submission: 21 April 2024"
   ]
  },
  {
   "cell_type": "markdown",
   "id": "389f327e",
   "metadata": {},
   "source": [
    "# Load Libraries"
   ]
  },
  {
   "cell_type": "code",
   "execution_count": 1,
   "id": "177d0d35",
   "metadata": {},
   "outputs": [],
   "source": [
    "import pandas as pd\n",
    "import matplotlib.pyplot as plt\n",
    "import sklearn.preprocessing as preproc\n",
    "import seaborn as sns\n",
    "import warnings\n",
    "warnings.filterwarnings(\"ignore\", message=\"The least populated class in y has only 1 members\")"
   ]
  },
  {
   "cell_type": "markdown",
   "id": "b85ddd8c",
   "metadata": {},
   "source": [
    "# Reading the Data"
   ]
  },
  {
   "cell_type": "markdown",
   "id": "a7f5bad7",
   "metadata": {},
   "source": [
    "Due to the fact that the original csv file had some chinese characters we use latin1 file encoding rather than the default type"
   ]
  },
  {
   "cell_type": "code",
   "execution_count": 2,
   "id": "9337b51e",
   "metadata": {},
   "outputs": [],
   "source": [
    "missing_value_formats = [\"?\",\"NA\",\"Na\",\"NaN.\",\".NaN\",\"NaN\",\"nA\",\"na\",\"n.a\",\"n.a.\",\"Î´Öª\",\".n.a\",\"n/a\",\"nan\",\"--\",\"UnKnown\"]\n",
    "data = pd.read_csv('new.csv', encoding=\"latin1\", na_values=missing_value_formats)"
   ]
  },
  {
   "cell_type": "code",
   "execution_count": 3,
   "id": "41673301",
   "metadata": {},
   "outputs": [
    {
     "data": {
      "text/html": [
       "<div>\n",
       "<style scoped>\n",
       "    .dataframe tbody tr th:only-of-type {\n",
       "        vertical-align: middle;\n",
       "    }\n",
       "\n",
       "    .dataframe tbody tr th {\n",
       "        vertical-align: top;\n",
       "    }\n",
       "\n",
       "    .dataframe thead th {\n",
       "        text-align: right;\n",
       "    }\n",
       "</style>\n",
       "<table border=\"1\" class=\"dataframe\">\n",
       "  <thead>\n",
       "    <tr style=\"text-align: right;\">\n",
       "      <th></th>\n",
       "      <th>url</th>\n",
       "      <th>id</th>\n",
       "      <th>Lng</th>\n",
       "      <th>Lat</th>\n",
       "      <th>Cid</th>\n",
       "      <th>tradeTime</th>\n",
       "      <th>DOM</th>\n",
       "      <th>followers</th>\n",
       "      <th>totalPrice</th>\n",
       "      <th>price</th>\n",
       "      <th>...</th>\n",
       "      <th>buildingType</th>\n",
       "      <th>constructionTime</th>\n",
       "      <th>renovationCondition</th>\n",
       "      <th>buildingStructure</th>\n",
       "      <th>ladderRatio</th>\n",
       "      <th>elevator</th>\n",
       "      <th>fiveYearsProperty</th>\n",
       "      <th>subway</th>\n",
       "      <th>district</th>\n",
       "      <th>communityAverage</th>\n",
       "    </tr>\n",
       "  </thead>\n",
       "  <tbody>\n",
       "    <tr>\n",
       "      <th>0</th>\n",
       "      <td>https://bj.lianjia.com/chengjiao/101084782030....</td>\n",
       "      <td>1.010000e+11</td>\n",
       "      <td>116.475489</td>\n",
       "      <td>40.019520</td>\n",
       "      <td>1.110000e+12</td>\n",
       "      <td>09/08/2016</td>\n",
       "      <td>1464</td>\n",
       "      <td>106</td>\n",
       "      <td>415.0</td>\n",
       "      <td>31680</td>\n",
       "      <td>...</td>\n",
       "      <td>1.0</td>\n",
       "      <td>2005.0</td>\n",
       "      <td>3</td>\n",
       "      <td>6</td>\n",
       "      <td>0.217</td>\n",
       "      <td>1</td>\n",
       "      <td>0</td>\n",
       "      <td>1</td>\n",
       "      <td>7</td>\n",
       "      <td>56021.0</td>\n",
       "    </tr>\n",
       "    <tr>\n",
       "      <th>1</th>\n",
       "      <td>https://bj.lianjia.com/chengjiao/101086012217....</td>\n",
       "      <td>1.010000e+11</td>\n",
       "      <td>116.453917</td>\n",
       "      <td>39.881534</td>\n",
       "      <td>1.110000e+12</td>\n",
       "      <td>28/07/2016</td>\n",
       "      <td>903</td>\n",
       "      <td>126</td>\n",
       "      <td>575.0</td>\n",
       "      <td>43436</td>\n",
       "      <td>...</td>\n",
       "      <td>1.0</td>\n",
       "      <td>2004.0</td>\n",
       "      <td>4</td>\n",
       "      <td>6</td>\n",
       "      <td>0.667</td>\n",
       "      <td>1</td>\n",
       "      <td>1</td>\n",
       "      <td>0</td>\n",
       "      <td>7</td>\n",
       "      <td>71539.0</td>\n",
       "    </tr>\n",
       "    <tr>\n",
       "      <th>2</th>\n",
       "      <td>https://bj.lianjia.com/chengjiao/101086041636....</td>\n",
       "      <td>1.010000e+11</td>\n",
       "      <td>116.561978</td>\n",
       "      <td>39.877145</td>\n",
       "      <td>1.110000e+12</td>\n",
       "      <td>11/12/2016</td>\n",
       "      <td>1271</td>\n",
       "      <td>48</td>\n",
       "      <td>1030.0</td>\n",
       "      <td>52021</td>\n",
       "      <td>...</td>\n",
       "      <td>4.0</td>\n",
       "      <td>2005.0</td>\n",
       "      <td>3</td>\n",
       "      <td>6</td>\n",
       "      <td>0.500</td>\n",
       "      <td>1</td>\n",
       "      <td>0</td>\n",
       "      <td>0</td>\n",
       "      <td>7</td>\n",
       "      <td>48160.0</td>\n",
       "    </tr>\n",
       "    <tr>\n",
       "      <th>3</th>\n",
       "      <td>https://bj.lianjia.com/chengjiao/101086406841....</td>\n",
       "      <td>1.010000e+11</td>\n",
       "      <td>116.438010</td>\n",
       "      <td>40.076114</td>\n",
       "      <td>1.110000e+12</td>\n",
       "      <td>30/09/2016</td>\n",
       "      <td>965</td>\n",
       "      <td>138</td>\n",
       "      <td>297.5</td>\n",
       "      <td>22202</td>\n",
       "      <td>...</td>\n",
       "      <td>1.0</td>\n",
       "      <td>2008.0</td>\n",
       "      <td>1</td>\n",
       "      <td>6</td>\n",
       "      <td>0.273</td>\n",
       "      <td>1</td>\n",
       "      <td>0</td>\n",
       "      <td>0</td>\n",
       "      <td>6</td>\n",
       "      <td>51238.0</td>\n",
       "    </tr>\n",
       "    <tr>\n",
       "      <th>4</th>\n",
       "      <td>https://bj.lianjia.com/chengjiao/101086920653....</td>\n",
       "      <td>1.010000e+11</td>\n",
       "      <td>116.428392</td>\n",
       "      <td>39.886229</td>\n",
       "      <td>1.110000e+12</td>\n",
       "      <td>28/08/2016</td>\n",
       "      <td>927</td>\n",
       "      <td>286</td>\n",
       "      <td>392.0</td>\n",
       "      <td>48396</td>\n",
       "      <td>...</td>\n",
       "      <td>4.0</td>\n",
       "      <td>1960.0</td>\n",
       "      <td>2</td>\n",
       "      <td>2</td>\n",
       "      <td>0.333</td>\n",
       "      <td>0</td>\n",
       "      <td>1</td>\n",
       "      <td>1</td>\n",
       "      <td>1</td>\n",
       "      <td>62588.0</td>\n",
       "    </tr>\n",
       "  </tbody>\n",
       "</table>\n",
       "<p>5 rows × 26 columns</p>\n",
       "</div>"
      ],
      "text/plain": [
       "                                                 url            id  \\\n",
       "0  https://bj.lianjia.com/chengjiao/101084782030....  1.010000e+11   \n",
       "1  https://bj.lianjia.com/chengjiao/101086012217....  1.010000e+11   \n",
       "2  https://bj.lianjia.com/chengjiao/101086041636....  1.010000e+11   \n",
       "3  https://bj.lianjia.com/chengjiao/101086406841....  1.010000e+11   \n",
       "4  https://bj.lianjia.com/chengjiao/101086920653....  1.010000e+11   \n",
       "\n",
       "          Lng        Lat           Cid   tradeTime   DOM  followers  \\\n",
       "0  116.475489  40.019520  1.110000e+12  09/08/2016  1464        106   \n",
       "1  116.453917  39.881534  1.110000e+12  28/07/2016   903        126   \n",
       "2  116.561978  39.877145  1.110000e+12  11/12/2016  1271         48   \n",
       "3  116.438010  40.076114  1.110000e+12  30/09/2016   965        138   \n",
       "4  116.428392  39.886229  1.110000e+12  28/08/2016   927        286   \n",
       "\n",
       "   totalPrice  price  ...  buildingType  constructionTime  \\\n",
       "0       415.0  31680  ...           1.0            2005.0   \n",
       "1       575.0  43436  ...           1.0            2004.0   \n",
       "2      1030.0  52021  ...           4.0            2005.0   \n",
       "3       297.5  22202  ...           1.0            2008.0   \n",
       "4       392.0  48396  ...           4.0            1960.0   \n",
       "\n",
       "   renovationCondition  buildingStructure  ladderRatio elevator  \\\n",
       "0                    3                  6        0.217        1   \n",
       "1                    4                  6        0.667        1   \n",
       "2                    3                  6        0.500        1   \n",
       "3                    1                  6        0.273        1   \n",
       "4                    2                  2        0.333        0   \n",
       "\n",
       "   fiveYearsProperty  subway  district  communityAverage  \n",
       "0                  0       1         7           56021.0  \n",
       "1                  1       0         7           71539.0  \n",
       "2                  0       0         7           48160.0  \n",
       "3                  0       0         6           51238.0  \n",
       "4                  1       1         1           62588.0  \n",
       "\n",
       "[5 rows x 26 columns]"
      ]
     },
     "execution_count": 3,
     "metadata": {},
     "output_type": "execute_result"
    }
   ],
   "source": [
    "data.head()"
   ]
  },
  {
   "cell_type": "code",
   "execution_count": 4,
   "id": "8f40aba1",
   "metadata": {},
   "outputs": [
    {
     "name": "stdout",
     "output_type": "stream",
     "text": [
      "<class 'pandas.core.frame.DataFrame'>\n",
      "RangeIndex: 27591 entries, 0 to 27590\n",
      "Data columns (total 26 columns):\n",
      " #   Column               Non-Null Count  Dtype  \n",
      "---  ------               --------------  -----  \n",
      " 0   url                  27591 non-null  object \n",
      " 1   id                   27591 non-null  float64\n",
      " 2   Lng                  27591 non-null  float64\n",
      " 3   Lat                  27591 non-null  float64\n",
      " 4   Cid                  27591 non-null  float64\n",
      " 5   tradeTime            27591 non-null  object \n",
      " 6   DOM                  27591 non-null  int64  \n",
      " 7   followers            27591 non-null  int64  \n",
      " 8   totalPrice           27591 non-null  float64\n",
      " 9   price                27591 non-null  int64  \n",
      " 10  square               27591 non-null  float64\n",
      " 11  livingRoom           27591 non-null  int64  \n",
      " 12  drawingRoom          27591 non-null  int64  \n",
      " 13  kitchen              27591 non-null  int64  \n",
      " 14  bathRoom             27591 non-null  int64  \n",
      " 15  floor                27591 non-null  object \n",
      " 16  buildingType         27336 non-null  float64\n",
      " 17  constructionTime     26819 non-null  float64\n",
      " 18  renovationCondition  27591 non-null  int64  \n",
      " 19  buildingStructure    27591 non-null  int64  \n",
      " 20  ladderRatio          27591 non-null  float64\n",
      " 21  elevator             27591 non-null  int64  \n",
      " 22  fiveYearsProperty    27591 non-null  int64  \n",
      " 23  subway               27591 non-null  int64  \n",
      " 24  district             27591 non-null  int64  \n",
      " 25  communityAverage     27564 non-null  float64\n",
      "dtypes: float64(10), int64(13), object(3)\n",
      "memory usage: 5.5+ MB\n"
     ]
    }
   ],
   "source": [
    "data.info()"
   ]
  },
  {
   "cell_type": "code",
   "execution_count": 5,
   "id": "394f8ba7",
   "metadata": {},
   "outputs": [
    {
     "data": {
      "text/html": [
       "<div>\n",
       "<style scoped>\n",
       "    .dataframe tbody tr th:only-of-type {\n",
       "        vertical-align: middle;\n",
       "    }\n",
       "\n",
       "    .dataframe tbody tr th {\n",
       "        vertical-align: top;\n",
       "    }\n",
       "\n",
       "    .dataframe thead th {\n",
       "        text-align: right;\n",
       "    }\n",
       "</style>\n",
       "<table border=\"1\" class=\"dataframe\">\n",
       "  <thead>\n",
       "    <tr style=\"text-align: right;\">\n",
       "      <th></th>\n",
       "      <th>id</th>\n",
       "      <th>Lng</th>\n",
       "      <th>Lat</th>\n",
       "      <th>Cid</th>\n",
       "      <th>DOM</th>\n",
       "      <th>followers</th>\n",
       "      <th>totalPrice</th>\n",
       "      <th>price</th>\n",
       "      <th>square</th>\n",
       "      <th>livingRoom</th>\n",
       "      <th>...</th>\n",
       "      <th>buildingType</th>\n",
       "      <th>constructionTime</th>\n",
       "      <th>renovationCondition</th>\n",
       "      <th>buildingStructure</th>\n",
       "      <th>ladderRatio</th>\n",
       "      <th>elevator</th>\n",
       "      <th>fiveYearsProperty</th>\n",
       "      <th>subway</th>\n",
       "      <th>district</th>\n",
       "      <th>communityAverage</th>\n",
       "    </tr>\n",
       "  </thead>\n",
       "  <tbody>\n",
       "    <tr>\n",
       "      <th>count</th>\n",
       "      <td>2.759100e+04</td>\n",
       "      <td>27591.000000</td>\n",
       "      <td>27591.000000</td>\n",
       "      <td>2.759100e+04</td>\n",
       "      <td>27591.000000</td>\n",
       "      <td>27591.000000</td>\n",
       "      <td>27591.000000</td>\n",
       "      <td>27591.000000</td>\n",
       "      <td>27591.000000</td>\n",
       "      <td>27591.000000</td>\n",
       "      <td>...</td>\n",
       "      <td>27336.000000</td>\n",
       "      <td>26819.000000</td>\n",
       "      <td>27591.000000</td>\n",
       "      <td>27591.000000</td>\n",
       "      <td>27591.000000</td>\n",
       "      <td>27591.000000</td>\n",
       "      <td>27591.000000</td>\n",
       "      <td>27591.000000</td>\n",
       "      <td>27591.000000</td>\n",
       "      <td>27564.000000</td>\n",
       "    </tr>\n",
       "    <tr>\n",
       "      <th>mean</th>\n",
       "      <td>1.010000e+11</td>\n",
       "      <td>116.411108</td>\n",
       "      <td>39.949670</td>\n",
       "      <td>1.156239e+12</td>\n",
       "      <td>69.608640</td>\n",
       "      <td>33.422602</td>\n",
       "      <td>439.938371</td>\n",
       "      <td>53000.136385</td>\n",
       "      <td>86.177041</td>\n",
       "      <td>2.049545</td>\n",
       "      <td>...</td>\n",
       "      <td>3.000183</td>\n",
       "      <td>1999.892688</td>\n",
       "      <td>3.298213</td>\n",
       "      <td>4.515422</td>\n",
       "      <td>0.381797</td>\n",
       "      <td>0.592222</td>\n",
       "      <td>0.539850</td>\n",
       "      <td>0.609474</td>\n",
       "      <td>6.652314</td>\n",
       "      <td>64330.588195</td>\n",
       "    </tr>\n",
       "    <tr>\n",
       "      <th>std</th>\n",
       "      <td>0.000000e+00</td>\n",
       "      <td>0.109037</td>\n",
       "      <td>0.097142</td>\n",
       "      <td>2.315377e+12</td>\n",
       "      <td>75.915084</td>\n",
       "      <td>43.944109</td>\n",
       "      <td>270.546781</td>\n",
       "      <td>22010.317830</td>\n",
       "      <td>42.195596</td>\n",
       "      <td>0.827781</td>\n",
       "      <td>...</td>\n",
       "      <td>1.270639</td>\n",
       "      <td>8.906394</td>\n",
       "      <td>0.931552</td>\n",
       "      <td>1.885651</td>\n",
       "      <td>0.192300</td>\n",
       "      <td>0.491430</td>\n",
       "      <td>0.498418</td>\n",
       "      <td>0.487877</td>\n",
       "      <td>2.743311</td>\n",
       "      <td>23108.737818</td>\n",
       "    </tr>\n",
       "    <tr>\n",
       "      <th>min</th>\n",
       "      <td>1.010000e+11</td>\n",
       "      <td>116.072514</td>\n",
       "      <td>39.627030</td>\n",
       "      <td>1.110000e+12</td>\n",
       "      <td>1.000000</td>\n",
       "      <td>0.000000</td>\n",
       "      <td>1.000000</td>\n",
       "      <td>117.000000</td>\n",
       "      <td>11.500000</td>\n",
       "      <td>0.000000</td>\n",
       "      <td>...</td>\n",
       "      <td>1.000000</td>\n",
       "      <td>1944.000000</td>\n",
       "      <td>1.000000</td>\n",
       "      <td>1.000000</td>\n",
       "      <td>0.014000</td>\n",
       "      <td>0.000000</td>\n",
       "      <td>0.000000</td>\n",
       "      <td>0.000000</td>\n",
       "      <td>1.000000</td>\n",
       "      <td>20483.000000</td>\n",
       "    </tr>\n",
       "    <tr>\n",
       "      <th>25%</th>\n",
       "      <td>1.010000e+11</td>\n",
       "      <td>116.343245</td>\n",
       "      <td>39.891990</td>\n",
       "      <td>1.110000e+12</td>\n",
       "      <td>21.000000</td>\n",
       "      <td>9.000000</td>\n",
       "      <td>270.000000</td>\n",
       "      <td>36350.500000</td>\n",
       "      <td>58.365000</td>\n",
       "      <td>1.000000</td>\n",
       "      <td>...</td>\n",
       "      <td>1.000000</td>\n",
       "      <td>1994.000000</td>\n",
       "      <td>3.000000</td>\n",
       "      <td>2.000000</td>\n",
       "      <td>0.250000</td>\n",
       "      <td>0.000000</td>\n",
       "      <td>0.000000</td>\n",
       "      <td>0.000000</td>\n",
       "      <td>6.000000</td>\n",
       "      <td>46120.000000</td>\n",
       "    </tr>\n",
       "    <tr>\n",
       "      <th>50%</th>\n",
       "      <td>1.010000e+11</td>\n",
       "      <td>116.416187</td>\n",
       "      <td>39.935122</td>\n",
       "      <td>1.110000e+12</td>\n",
       "      <td>47.000000</td>\n",
       "      <td>20.000000</td>\n",
       "      <td>378.000000</td>\n",
       "      <td>48164.000000</td>\n",
       "      <td>75.620000</td>\n",
       "      <td>2.000000</td>\n",
       "      <td>...</td>\n",
       "      <td>4.000000</td>\n",
       "      <td>2002.000000</td>\n",
       "      <td>4.000000</td>\n",
       "      <td>6.000000</td>\n",
       "      <td>0.333000</td>\n",
       "      <td>1.000000</td>\n",
       "      <td>1.000000</td>\n",
       "      <td>1.000000</td>\n",
       "      <td>7.000000</td>\n",
       "      <td>59488.000000</td>\n",
       "    </tr>\n",
       "    <tr>\n",
       "      <th>75%</th>\n",
       "      <td>1.010000e+11</td>\n",
       "      <td>116.472797</td>\n",
       "      <td>40.005811</td>\n",
       "      <td>1.110000e+12</td>\n",
       "      <td>93.000000</td>\n",
       "      <td>41.000000</td>\n",
       "      <td>525.000000</td>\n",
       "      <td>66187.500000</td>\n",
       "      <td>100.970000</td>\n",
       "      <td>3.000000</td>\n",
       "      <td>...</td>\n",
       "      <td>4.000000</td>\n",
       "      <td>2006.000000</td>\n",
       "      <td>4.000000</td>\n",
       "      <td>6.000000</td>\n",
       "      <td>0.500000</td>\n",
       "      <td>1.000000</td>\n",
       "      <td>1.000000</td>\n",
       "      <td>1.000000</td>\n",
       "      <td>8.000000</td>\n",
       "      <td>77695.000000</td>\n",
       "    </tr>\n",
       "    <tr>\n",
       "      <th>max</th>\n",
       "      <td>1.010000e+11</td>\n",
       "      <td>116.732378</td>\n",
       "      <td>40.251337</td>\n",
       "      <td>1.180000e+14</td>\n",
       "      <td>1464.000000</td>\n",
       "      <td>1000.000000</td>\n",
       "      <td>6000.000000</td>\n",
       "      <td>150000.000000</td>\n",
       "      <td>586.000000</td>\n",
       "      <td>9.000000</td>\n",
       "      <td>...</td>\n",
       "      <td>4.000000</td>\n",
       "      <td>2016.000000</td>\n",
       "      <td>4.000000</td>\n",
       "      <td>6.000000</td>\n",
       "      <td>10.000000</td>\n",
       "      <td>1.000000</td>\n",
       "      <td>1.000000</td>\n",
       "      <td>1.000000</td>\n",
       "      <td>13.000000</td>\n",
       "      <td>183109.000000</td>\n",
       "    </tr>\n",
       "  </tbody>\n",
       "</table>\n",
       "<p>8 rows × 23 columns</p>\n",
       "</div>"
      ],
      "text/plain": [
       "                 id           Lng           Lat           Cid           DOM  \\\n",
       "count  2.759100e+04  27591.000000  27591.000000  2.759100e+04  27591.000000   \n",
       "mean   1.010000e+11    116.411108     39.949670  1.156239e+12     69.608640   \n",
       "std    0.000000e+00      0.109037      0.097142  2.315377e+12     75.915084   \n",
       "min    1.010000e+11    116.072514     39.627030  1.110000e+12      1.000000   \n",
       "25%    1.010000e+11    116.343245     39.891990  1.110000e+12     21.000000   \n",
       "50%    1.010000e+11    116.416187     39.935122  1.110000e+12     47.000000   \n",
       "75%    1.010000e+11    116.472797     40.005811  1.110000e+12     93.000000   \n",
       "max    1.010000e+11    116.732378     40.251337  1.180000e+14   1464.000000   \n",
       "\n",
       "          followers    totalPrice          price        square    livingRoom  \\\n",
       "count  27591.000000  27591.000000   27591.000000  27591.000000  27591.000000   \n",
       "mean      33.422602    439.938371   53000.136385     86.177041      2.049545   \n",
       "std       43.944109    270.546781   22010.317830     42.195596      0.827781   \n",
       "min        0.000000      1.000000     117.000000     11.500000      0.000000   \n",
       "25%        9.000000    270.000000   36350.500000     58.365000      1.000000   \n",
       "50%       20.000000    378.000000   48164.000000     75.620000      2.000000   \n",
       "75%       41.000000    525.000000   66187.500000    100.970000      3.000000   \n",
       "max     1000.000000   6000.000000  150000.000000    586.000000      9.000000   \n",
       "\n",
       "       ...  buildingType  constructionTime  renovationCondition  \\\n",
       "count  ...  27336.000000      26819.000000         27591.000000   \n",
       "mean   ...      3.000183       1999.892688             3.298213   \n",
       "std    ...      1.270639          8.906394             0.931552   \n",
       "min    ...      1.000000       1944.000000             1.000000   \n",
       "25%    ...      1.000000       1994.000000             3.000000   \n",
       "50%    ...      4.000000       2002.000000             4.000000   \n",
       "75%    ...      4.000000       2006.000000             4.000000   \n",
       "max    ...      4.000000       2016.000000             4.000000   \n",
       "\n",
       "       buildingStructure   ladderRatio      elevator  fiveYearsProperty  \\\n",
       "count       27591.000000  27591.000000  27591.000000       27591.000000   \n",
       "mean            4.515422      0.381797      0.592222           0.539850   \n",
       "std             1.885651      0.192300      0.491430           0.498418   \n",
       "min             1.000000      0.014000      0.000000           0.000000   \n",
       "25%             2.000000      0.250000      0.000000           0.000000   \n",
       "50%             6.000000      0.333000      1.000000           1.000000   \n",
       "75%             6.000000      0.500000      1.000000           1.000000   \n",
       "max             6.000000     10.000000      1.000000           1.000000   \n",
       "\n",
       "             subway      district  communityAverage  \n",
       "count  27591.000000  27591.000000      27564.000000  \n",
       "mean       0.609474      6.652314      64330.588195  \n",
       "std        0.487877      2.743311      23108.737818  \n",
       "min        0.000000      1.000000      20483.000000  \n",
       "25%        0.000000      6.000000      46120.000000  \n",
       "50%        1.000000      7.000000      59488.000000  \n",
       "75%        1.000000      8.000000      77695.000000  \n",
       "max        1.000000     13.000000     183109.000000  \n",
       "\n",
       "[8 rows x 23 columns]"
      ]
     },
     "execution_count": 5,
     "metadata": {},
     "output_type": "execute_result"
    }
   ],
   "source": [
    "data.describe()"
   ]
  },
  {
   "cell_type": "markdown",
   "id": "8c50c8a1",
   "metadata": {},
   "source": [
    "# Preprocesing the data"
   ]
  },
  {
   "cell_type": "markdown",
   "id": "7d6f6ce6",
   "metadata": {},
   "source": [
    "### Dropping irrelevant features\n",
    "\n",
    "Some features are logicaly irrelevants to the independant variable such as: id, url and floor therefore we drop them"
   ]
  },
  {
   "cell_type": "code",
   "execution_count": 6,
   "id": "db540a7a",
   "metadata": {},
   "outputs": [],
   "source": [
    "data.drop(['id', 'url', 'floor', 'tradeTime'], axis=1, inplace=True)"
   ]
  },
  {
   "cell_type": "markdown",
   "id": "6cbf6267",
   "metadata": {},
   "source": [
    "# Calculate the number of missing values per variable"
   ]
  },
  {
   "cell_type": "code",
   "execution_count": 7,
   "id": "e485c595",
   "metadata": {},
   "outputs": [],
   "source": [
    "missing_counts = data.isna().sum()\n",
    "missing_df = pd.DataFrame({'Variable': missing_counts.index, 'Value': missing_counts.values})\n",
    "missing_df = missing_df[missing_df['Value'] > 0]\n",
    "missing_df['Percentage'] = missing_df['Value'] / len(data)\n",
    "missing_df = missing_df.sort_values(by='Percentage', ascending=False)"
   ]
  },
  {
   "cell_type": "markdown",
   "id": "9d09fd96",
   "metadata": {},
   "source": [
    "# Missing values graph"
   ]
  },
  {
   "cell_type": "code",
   "execution_count": 8,
   "id": "d665bdec",
   "metadata": {
    "scrolled": true
   },
   "outputs": [
    {
     "data": {
      "image/png": "[encoded data removed]",
      "text/plain": [
       "<Figure size 1000x600 with 1 Axes>"
      ]
     },
     "metadata": {},
     "output_type": "display_data"
    }
   ],
   "source": [
    "plt.figure(figsize=(10, 6))\n",
    "plt.barh(missing_df['Variable'], missing_df['Percentage'], color='green')\n",
    "plt.xlabel('Percentage of Missing Values')\n",
    "plt.ylabel('Variable')\n",
    "plt.title('Missing Data by Variable')\n",
    "plt.show()"
   ]
  },
  {
   "cell_type": "markdown",
   "id": "f8ee36e1",
   "metadata": {},
   "source": [
    "I want to better understand the distribution of the data in the 'buildingType', 'communityAverage', 'constructionTime'column,\n",
    "identify possible outliers, evaluate if the variability of the mean is significantly greater than the median, \n",
    "and check if the standard deviation is high."
   ]
  },
  {
   "cell_type": "code",
   "execution_count": 9,
   "id": "6a4ba5df",
   "metadata": {},
   "outputs": [
    {
     "data": {
      "text/html": [
       "<div>\n",
       "<style scoped>\n",
       "    .dataframe tbody tr th:only-of-type {\n",
       "        vertical-align: middle;\n",
       "    }\n",
       "\n",
       "    .dataframe tbody tr th {\n",
       "        vertical-align: top;\n",
       "    }\n",
       "\n",
       "    .dataframe thead th {\n",
       "        text-align: right;\n",
       "    }\n",
       "</style>\n",
       "<table border=\"1\" class=\"dataframe\">\n",
       "  <thead>\n",
       "    <tr style=\"text-align: right;\">\n",
       "      <th></th>\n",
       "      <th>buildingType</th>\n",
       "      <th>communityAverage</th>\n",
       "      <th>constructionTime</th>\n",
       "    </tr>\n",
       "  </thead>\n",
       "  <tbody>\n",
       "    <tr>\n",
       "      <th>count</th>\n",
       "      <td>27336.000000</td>\n",
       "      <td>27564.000000</td>\n",
       "      <td>26819.000000</td>\n",
       "    </tr>\n",
       "    <tr>\n",
       "      <th>mean</th>\n",
       "      <td>3.000183</td>\n",
       "      <td>64330.588195</td>\n",
       "      <td>1999.892688</td>\n",
       "    </tr>\n",
       "    <tr>\n",
       "      <th>std</th>\n",
       "      <td>1.270639</td>\n",
       "      <td>23108.737818</td>\n",
       "      <td>8.906394</td>\n",
       "    </tr>\n",
       "    <tr>\n",
       "      <th>min</th>\n",
       "      <td>1.000000</td>\n",
       "      <td>20483.000000</td>\n",
       "      <td>1944.000000</td>\n",
       "    </tr>\n",
       "    <tr>\n",
       "      <th>25%</th>\n",
       "      <td>1.000000</td>\n",
       "      <td>46120.000000</td>\n",
       "      <td>1994.000000</td>\n",
       "    </tr>\n",
       "    <tr>\n",
       "      <th>50%</th>\n",
       "      <td>4.000000</td>\n",
       "      <td>59488.000000</td>\n",
       "      <td>2002.000000</td>\n",
       "    </tr>\n",
       "    <tr>\n",
       "      <th>75%</th>\n",
       "      <td>4.000000</td>\n",
       "      <td>77695.000000</td>\n",
       "      <td>2006.000000</td>\n",
       "    </tr>\n",
       "    <tr>\n",
       "      <th>max</th>\n",
       "      <td>4.000000</td>\n",
       "      <td>183109.000000</td>\n",
       "      <td>2016.000000</td>\n",
       "    </tr>\n",
       "  </tbody>\n",
       "</table>\n",
       "</div>"
      ],
      "text/plain": [
       "       buildingType  communityAverage  constructionTime\n",
       "count  27336.000000      27564.000000      26819.000000\n",
       "mean       3.000183      64330.588195       1999.892688\n",
       "std        1.270639      23108.737818          8.906394\n",
       "min        1.000000      20483.000000       1944.000000\n",
       "25%        1.000000      46120.000000       1994.000000\n",
       "50%        4.000000      59488.000000       2002.000000\n",
       "75%        4.000000      77695.000000       2006.000000\n",
       "max        4.000000     183109.000000       2016.000000"
      ]
     },
     "execution_count": 9,
     "metadata": {},
     "output_type": "execute_result"
    }
   ],
   "source": [
    "data[['buildingType', 'communityAverage', 'constructionTime']].describe() "
   ]
  },
  {
   "cell_type": "code",
   "execution_count": 10,
   "id": "26ecea42",
   "metadata": {},
   "outputs": [
    {
     "data": {
      "image/png": "[encoded data removed]",
      "text/plain": [
       "<Figure size 2000x200 with 2 Axes>"
      ]
     },
     "metadata": {},
     "output_type": "display_data"
    }
   ],
   "source": [
    "fix, (ax1, ax2) = plt.subplots(1, 2, figsize=(20, 2))\n",
    "\n",
    "data['communityAverage'].hist(ax=ax1)\n",
    "plt.xlabel('Community Average')\n",
    "plt.ylabel('Distribution')\n",
    "\n",
    "data['communityAverage'].fillna(data['communityAverage'].mean(), inplace=True)\n",
    "\n",
    "data['communityAverage'].hist(ax=ax2)\n",
    "\n",
    "plt.show()\n"
   ]
  },
  {
   "cell_type": "markdown",
   "id": "77df7497",
   "metadata": {},
   "source": [
    "Using the median of the existing values in the buildingType,communityAverage column to replace missing values"
   ]
  },
  {
   "cell_type": "code",
   "execution_count": 11,
   "id": "d7b53569",
   "metadata": {},
   "outputs": [],
   "source": [
    "data['buildingType'].fillna(data['buildingType'].mode()[0], inplace=True)\n",
    "data['communityAverage'].fillna(data['communityAverage'].mean(), inplace=True)\n",
    "data['constructionTime'].fillna(data['constructionTime'].mean(), inplace=True)"
   ]
  },
  {
   "cell_type": "markdown",
   "id": "dbb7f901",
   "metadata": {},
   "source": [
    "Identifying which columns have missing values"
   ]
  },
  {
   "cell_type": "code",
   "execution_count": 12,
   "id": "ebd3ef9f",
   "metadata": {},
   "outputs": [
    {
     "data": {
      "text/plain": [
       "Lng                    0\n",
       "Lat                    0\n",
       "Cid                    0\n",
       "DOM                    0\n",
       "followers              0\n",
       "totalPrice             0\n",
       "price                  0\n",
       "square                 0\n",
       "livingRoom             0\n",
       "drawingRoom            0\n",
       "kitchen                0\n",
       "bathRoom               0\n",
       "buildingType           0\n",
       "constructionTime       0\n",
       "renovationCondition    0\n",
       "buildingStructure      0\n",
       "ladderRatio            0\n",
       "elevator               0\n",
       "fiveYearsProperty      0\n",
       "subway                 0\n",
       "district               0\n",
       "communityAverage       0\n",
       "dtype: int64"
      ]
     },
     "execution_count": 12,
     "metadata": {},
     "output_type": "execute_result"
    }
   ],
   "source": [
    "data.isnull().sum()"
   ]
  },
  {
   "cell_type": "markdown",
   "id": "d7d610c9",
   "metadata": {},
   "source": [
    "## Data standardization"
   ]
  },
  {
   "cell_type": "code",
   "execution_count": 13,
   "id": "80391ffb",
   "metadata": {},
   "outputs": [
    {
     "name": "stderr",
     "output_type": "stream",
     "text": [
      "C:\\Users\\monte\\anaconda3\\Lib\\site-packages\\sklearn\\preprocessing\\_data.py:240: UserWarning: Numerical issues were encountered when centering the data and might not be solved. Dataset may contain too large values. You may need to prescale your features.\n",
      "  warnings.warn(\n"
     ]
    }
   ],
   "source": [
    "from sklearn import preprocessing\n",
    "data_scaled = preprocessing.scale(data)"
   ]
  },
  {
   "cell_type": "code",
   "execution_count": 14,
   "id": "32d25bef",
   "metadata": {},
   "outputs": [],
   "source": [
    "data_scaled = pd.DataFrame(data_scaled, columns=data.columns)"
   ]
  },
  {
   "cell_type": "code",
   "execution_count": 15,
   "id": "16095553",
   "metadata": {},
   "outputs": [
    {
     "data": {
      "text/html": [
       "<div>\n",
       "<style scoped>\n",
       "    .dataframe tbody tr th:only-of-type {\n",
       "        vertical-align: middle;\n",
       "    }\n",
       "\n",
       "    .dataframe tbody tr th {\n",
       "        vertical-align: top;\n",
       "    }\n",
       "\n",
       "    .dataframe thead th {\n",
       "        text-align: right;\n",
       "    }\n",
       "</style>\n",
       "<table border=\"1\" class=\"dataframe\">\n",
       "  <thead>\n",
       "    <tr style=\"text-align: right;\">\n",
       "      <th></th>\n",
       "      <th>Lng</th>\n",
       "      <th>Lat</th>\n",
       "      <th>Cid</th>\n",
       "      <th>DOM</th>\n",
       "      <th>followers</th>\n",
       "      <th>totalPrice</th>\n",
       "      <th>price</th>\n",
       "      <th>square</th>\n",
       "      <th>livingRoom</th>\n",
       "      <th>drawingRoom</th>\n",
       "      <th>...</th>\n",
       "      <th>buildingType</th>\n",
       "      <th>constructionTime</th>\n",
       "      <th>renovationCondition</th>\n",
       "      <th>buildingStructure</th>\n",
       "      <th>ladderRatio</th>\n",
       "      <th>elevator</th>\n",
       "      <th>fiveYearsProperty</th>\n",
       "      <th>subway</th>\n",
       "      <th>district</th>\n",
       "      <th>communityAverage</th>\n",
       "    </tr>\n",
       "  </thead>\n",
       "  <tbody>\n",
       "    <tr>\n",
       "      <th>0</th>\n",
       "      <td>0.590457</td>\n",
       "      <td>0.719062</td>\n",
       "      <td>-0.019971</td>\n",
       "      <td>18.368110</td>\n",
       "      <td>1.651614</td>\n",
       "      <td>-0.092179</td>\n",
       "      <td>31680</td>\n",
       "      <td>1.062286</td>\n",
       "      <td>-0.059854</td>\n",
       "      <td>-0.312974</td>\n",
       "      <td>...</td>\n",
       "      <td>-1.584289</td>\n",
       "      <td>0.581649</td>\n",
       "      <td>-0.320131</td>\n",
       "      <td>0.787317</td>\n",
       "      <td>-0.856996</td>\n",
       "      <td>0.829793</td>\n",
       "      <td>-1.083145</td>\n",
       "      <td>0.800474</td>\n",
       "      <td>0.126742</td>\n",
       "      <td>-0.359769</td>\n",
       "    </tr>\n",
       "    <tr>\n",
       "      <th>1</th>\n",
       "      <td>0.392613</td>\n",
       "      <td>-0.701425</td>\n",
       "      <td>-0.019971</td>\n",
       "      <td>10.978141</td>\n",
       "      <td>2.106746</td>\n",
       "      <td>0.499226</td>\n",
       "      <td>43436</td>\n",
       "      <td>1.094991</td>\n",
       "      <td>-0.059854</td>\n",
       "      <td>1.444306</td>\n",
       "      <td>...</td>\n",
       "      <td>-1.584289</td>\n",
       "      <td>0.467763</td>\n",
       "      <td>0.753366</td>\n",
       "      <td>0.787317</td>\n",
       "      <td>1.483145</td>\n",
       "      <td>0.829793</td>\n",
       "      <td>0.923237</td>\n",
       "      <td>-1.249260</td>\n",
       "      <td>0.126742</td>\n",
       "      <td>0.312093</td>\n",
       "    </tr>\n",
       "    <tr>\n",
       "      <th>2</th>\n",
       "      <td>1.383678</td>\n",
       "      <td>-0.746608</td>\n",
       "      <td>-0.019971</td>\n",
       "      <td>15.825750</td>\n",
       "      <td>0.331732</td>\n",
       "      <td>2.181036</td>\n",
       "      <td>52021</td>\n",
       "      <td>2.650158</td>\n",
       "      <td>1.148216</td>\n",
       "      <td>1.444306</td>\n",
       "      <td>...</td>\n",
       "      <td>0.781000</td>\n",
       "      <td>0.581649</td>\n",
       "      <td>-0.320131</td>\n",
       "      <td>0.787317</td>\n",
       "      <td>0.614693</td>\n",
       "      <td>0.829793</td>\n",
       "      <td>-1.083145</td>\n",
       "      <td>-1.249260</td>\n",
       "      <td>0.126742</td>\n",
       "      <td>-0.700116</td>\n",
       "    </tr>\n",
       "    <tr>\n",
       "      <th>3</th>\n",
       "      <td>0.246724</td>\n",
       "      <td>1.301666</td>\n",
       "      <td>-0.019971</td>\n",
       "      <td>11.794857</td>\n",
       "      <td>2.379825</td>\n",
       "      <td>-0.526493</td>\n",
       "      <td>22202</td>\n",
       "      <td>1.133384</td>\n",
       "      <td>1.148216</td>\n",
       "      <td>-0.312974</td>\n",
       "      <td>...</td>\n",
       "      <td>-1.584289</td>\n",
       "      <td>0.923306</td>\n",
       "      <td>-2.467125</td>\n",
       "      <td>0.787317</td>\n",
       "      <td>-0.565778</td>\n",
       "      <td>0.829793</td>\n",
       "      <td>-1.083145</td>\n",
       "      <td>-1.249260</td>\n",
       "      <td>-0.237788</td>\n",
       "      <td>-0.566852</td>\n",
       "    </tr>\n",
       "    <tr>\n",
       "      <th>4</th>\n",
       "      <td>0.158514</td>\n",
       "      <td>-0.653093</td>\n",
       "      <td>-0.019971</td>\n",
       "      <td>11.294289</td>\n",
       "      <td>5.747801</td>\n",
       "      <td>-0.177194</td>\n",
       "      <td>48396</td>\n",
       "      <td>-0.122694</td>\n",
       "      <td>-0.059854</td>\n",
       "      <td>-0.312974</td>\n",
       "      <td>...</td>\n",
       "      <td>0.781000</td>\n",
       "      <td>-4.543201</td>\n",
       "      <td>-1.393628</td>\n",
       "      <td>-1.334005</td>\n",
       "      <td>-0.253760</td>\n",
       "      <td>-1.205120</td>\n",
       "      <td>0.923237</td>\n",
       "      <td>0.800474</td>\n",
       "      <td>-2.060436</td>\n",
       "      <td>-0.075446</td>\n",
       "    </tr>\n",
       "    <tr>\n",
       "      <th>...</th>\n",
       "      <td>...</td>\n",
       "      <td>...</td>\n",
       "      <td>...</td>\n",
       "      <td>...</td>\n",
       "      <td>...</td>\n",
       "      <td>...</td>\n",
       "      <td>...</td>\n",
       "      <td>...</td>\n",
       "      <td>...</td>\n",
       "      <td>...</td>\n",
       "      <td>...</td>\n",
       "      <td>...</td>\n",
       "      <td>...</td>\n",
       "      <td>...</td>\n",
       "      <td>...</td>\n",
       "      <td>...</td>\n",
       "      <td>...</td>\n",
       "      <td>...</td>\n",
       "      <td>...</td>\n",
       "      <td>...</td>\n",
       "      <td>...</td>\n",
       "    </tr>\n",
       "    <tr>\n",
       "      <th>27586</th>\n",
       "      <td>1.017989</td>\n",
       "      <td>-0.282308</td>\n",
       "      <td>-0.019971</td>\n",
       "      <td>0.215921</td>\n",
       "      <td>0.354488</td>\n",
       "      <td>-0.276994</td>\n",
       "      <td>52143</td>\n",
       "      <td>-0.383389</td>\n",
       "      <td>-0.059854</td>\n",
       "      <td>-0.312974</td>\n",
       "      <td>...</td>\n",
       "      <td>-0.007430</td>\n",
       "      <td>0.126107</td>\n",
       "      <td>-0.320131</td>\n",
       "      <td>0.787317</td>\n",
       "      <td>-0.253760</td>\n",
       "      <td>0.829793</td>\n",
       "      <td>-1.083145</td>\n",
       "      <td>-1.249260</td>\n",
       "      <td>0.126742</td>\n",
       "      <td>-0.447529</td>\n",
       "    </tr>\n",
       "    <tr>\n",
       "      <th>27587</th>\n",
       "      <td>0.440937</td>\n",
       "      <td>0.105833</td>\n",
       "      <td>-0.019971</td>\n",
       "      <td>-0.508586</td>\n",
       "      <td>0.058653</td>\n",
       "      <td>-0.155016</td>\n",
       "      <td>64350</td>\n",
       "      <td>-0.576541</td>\n",
       "      <td>-0.059854</td>\n",
       "      <td>-0.312974</td>\n",
       "      <td>...</td>\n",
       "      <td>0.781000</td>\n",
       "      <td>-2.037719</td>\n",
       "      <td>0.753366</td>\n",
       "      <td>0.787317</td>\n",
       "      <td>-0.685386</td>\n",
       "      <td>-1.205120</td>\n",
       "      <td>-1.083145</td>\n",
       "      <td>0.800474</td>\n",
       "      <td>0.126742</td>\n",
       "      <td>0.003135</td>\n",
       "    </tr>\n",
       "    <tr>\n",
       "      <th>27588</th>\n",
       "      <td>0.724698</td>\n",
       "      <td>-0.300817</td>\n",
       "      <td>-0.019971</td>\n",
       "      <td>-0.653487</td>\n",
       "      <td>-0.555775</td>\n",
       "      <td>-0.554215</td>\n",
       "      <td>41429</td>\n",
       "      <td>-0.383389</td>\n",
       "      <td>-0.059854</td>\n",
       "      <td>-0.312974</td>\n",
       "      <td>...</td>\n",
       "      <td>0.781000</td>\n",
       "      <td>-1.582176</td>\n",
       "      <td>-0.320131</td>\n",
       "      <td>-0.273344</td>\n",
       "      <td>-0.253760</td>\n",
       "      <td>-1.205120</td>\n",
       "      <td>0.923237</td>\n",
       "      <td>-1.249260</td>\n",
       "      <td>0.126742</td>\n",
       "      <td>-0.370290</td>\n",
       "    </tr>\n",
       "    <tr>\n",
       "      <th>27589</th>\n",
       "      <td>-0.636028</td>\n",
       "      <td>-1.997968</td>\n",
       "      <td>-0.019971</td>\n",
       "      <td>0.268612</td>\n",
       "      <td>0.104166</td>\n",
       "      <td>0.480745</td>\n",
       "      <td>39042</td>\n",
       "      <td>1.417779</td>\n",
       "      <td>1.148216</td>\n",
       "      <td>1.444306</td>\n",
       "      <td>...</td>\n",
       "      <td>-0.007430</td>\n",
       "      <td>0.923306</td>\n",
       "      <td>-0.320131</td>\n",
       "      <td>0.787317</td>\n",
       "      <td>0.094662</td>\n",
       "      <td>0.829793</td>\n",
       "      <td>-1.083145</td>\n",
       "      <td>0.800474</td>\n",
       "      <td>-0.966847</td>\n",
       "      <td>-0.771770</td>\n",
       "    </tr>\n",
       "    <tr>\n",
       "      <th>27590</th>\n",
       "      <td>1.016916</td>\n",
       "      <td>-0.228973</td>\n",
       "      <td>-0.019971</td>\n",
       "      <td>-0.693006</td>\n",
       "      <td>-0.715071</td>\n",
       "      <td>-0.258512</td>\n",
       "      <td>63400</td>\n",
       "      <td>-0.659252</td>\n",
       "      <td>-1.267924</td>\n",
       "      <td>-0.312974</td>\n",
       "      <td>...</td>\n",
       "      <td>-1.584289</td>\n",
       "      <td>0.695535</td>\n",
       "      <td>0.753366</td>\n",
       "      <td>0.787317</td>\n",
       "      <td>-1.117012</td>\n",
       "      <td>0.829793</td>\n",
       "      <td>0.923237</td>\n",
       "      <td>0.800474</td>\n",
       "      <td>0.126742</td>\n",
       "      <td>0.418384</td>\n",
       "    </tr>\n",
       "  </tbody>\n",
       "</table>\n",
       "<p>27591 rows × 22 columns</p>\n",
       "</div>"
      ],
      "text/plain": [
       "            Lng       Lat       Cid        DOM  followers  totalPrice  price  \\\n",
       "0      0.590457  0.719062 -0.019971  18.368110   1.651614   -0.092179  31680   \n",
       "1      0.392613 -0.701425 -0.019971  10.978141   2.106746    0.499226  43436   \n",
       "2      1.383678 -0.746608 -0.019971  15.825750   0.331732    2.181036  52021   \n",
       "3      0.246724  1.301666 -0.019971  11.794857   2.379825   -0.526493  22202   \n",
       "4      0.158514 -0.653093 -0.019971  11.294289   5.747801   -0.177194  48396   \n",
       "...         ...       ...       ...        ...        ...         ...    ...   \n",
       "27586  1.017989 -0.282308 -0.019971   0.215921   0.354488   -0.276994  52143   \n",
       "27587  0.440937  0.105833 -0.019971  -0.508586   0.058653   -0.155016  64350   \n",
       "27588  0.724698 -0.300817 -0.019971  -0.653487  -0.555775   -0.554215  41429   \n",
       "27589 -0.636028 -1.997968 -0.019971   0.268612   0.104166    0.480745  39042   \n",
       "27590  1.016916 -0.228973 -0.019971  -0.693006  -0.715071   -0.258512  63400   \n",
       "\n",
       "         square  livingRoom  drawingRoom  ...  buildingType  constructionTime  \\\n",
       "0      1.062286   -0.059854    -0.312974  ...     -1.584289          0.581649   \n",
       "1      1.094991   -0.059854     1.444306  ...     -1.584289          0.467763   \n",
       "2      2.650158    1.148216     1.444306  ...      0.781000          0.581649   \n",
       "3      1.133384    1.148216    -0.312974  ...     -1.584289          0.923306   \n",
       "4     -0.122694   -0.059854    -0.312974  ...      0.781000         -4.543201   \n",
       "...         ...         ...          ...  ...           ...               ...   \n",
       "27586 -0.383389   -0.059854    -0.312974  ...     -0.007430          0.126107   \n",
       "27587 -0.576541   -0.059854    -0.312974  ...      0.781000         -2.037719   \n",
       "27588 -0.383389   -0.059854    -0.312974  ...      0.781000         -1.582176   \n",
       "27589  1.417779    1.148216     1.444306  ...     -0.007430          0.923306   \n",
       "27590 -0.659252   -1.267924    -0.312974  ...     -1.584289          0.695535   \n",
       "\n",
       "       renovationCondition  buildingStructure  ladderRatio  elevator  \\\n",
       "0                -0.320131           0.787317    -0.856996  0.829793   \n",
       "1                 0.753366           0.787317     1.483145  0.829793   \n",
       "2                -0.320131           0.787317     0.614693  0.829793   \n",
       "3                -2.467125           0.787317    -0.565778  0.829793   \n",
       "4                -1.393628          -1.334005    -0.253760 -1.205120   \n",
       "...                    ...                ...          ...       ...   \n",
       "27586            -0.320131           0.787317    -0.253760  0.829793   \n",
       "27587             0.753366           0.787317    -0.685386 -1.205120   \n",
       "27588            -0.320131          -0.273344    -0.253760 -1.205120   \n",
       "27589            -0.320131           0.787317     0.094662  0.829793   \n",
       "27590             0.753366           0.787317    -1.117012  0.829793   \n",
       "\n",
       "       fiveYearsProperty    subway  district  communityAverage  \n",
       "0              -1.083145  0.800474  0.126742         -0.359769  \n",
       "1               0.923237 -1.249260  0.126742          0.312093  \n",
       "2              -1.083145 -1.249260  0.126742         -0.700116  \n",
       "3              -1.083145 -1.249260 -0.237788         -0.566852  \n",
       "4               0.923237  0.800474 -2.060436         -0.075446  \n",
       "...                  ...       ...       ...               ...  \n",
       "27586          -1.083145 -1.249260  0.126742         -0.447529  \n",
       "27587          -1.083145  0.800474  0.126742          0.003135  \n",
       "27588           0.923237 -1.249260  0.126742         -0.370290  \n",
       "27589          -1.083145  0.800474 -0.966847         -0.771770  \n",
       "27590           0.923237  0.800474  0.126742          0.418384  \n",
       "\n",
       "[27591 rows x 22 columns]"
      ]
     },
     "execution_count": 15,
     "metadata": {},
     "output_type": "execute_result"
    }
   ],
   "source": [
    "data_scaled['price'] = data['price']\n",
    "data = data_scaled\n",
    "\n",
    "data"
   ]
  },
  {
   "cell_type": "code",
   "execution_count": 16,
   "id": "19d53825",
   "metadata": {},
   "outputs": [
    {
     "data": {
      "text/plain": [
       "(            Lng       Lat       Cid        DOM  followers  totalPrice  \\\n",
       " 0      0.590457  0.719062 -0.019971  18.368110   1.651614   -0.092179   \n",
       " 1      0.392613 -0.701425 -0.019971  10.978141   2.106746    0.499226   \n",
       " 2      1.383678 -0.746608 -0.019971  15.825750   0.331732    2.181036   \n",
       " 3      0.246724  1.301666 -0.019971  11.794857   2.379825   -0.526493   \n",
       " 4      0.158514 -0.653093 -0.019971  11.294289   5.747801   -0.177194   \n",
       " ...         ...       ...       ...        ...        ...         ...   \n",
       " 27586  1.017989 -0.282308 -0.019971   0.215921   0.354488   -0.276994   \n",
       " 27587  0.440937  0.105833 -0.019971  -0.508586   0.058653   -0.155016   \n",
       " 27588  0.724698 -0.300817 -0.019971  -0.653487  -0.555775   -0.554215   \n",
       " 27589 -0.636028 -1.997968 -0.019971   0.268612   0.104166    0.480745   \n",
       " 27590  1.016916 -0.228973 -0.019971  -0.693006  -0.715071   -0.258512   \n",
       " \n",
       "          square  livingRoom  drawingRoom   kitchen  ...  buildingType  \\\n",
       " 0      1.062286   -0.059854    -0.312974  0.049619  ...     -1.584289   \n",
       " 1      1.094991   -0.059854     1.444306  0.049619  ...     -1.584289   \n",
       " 2      2.650158    1.148216     1.444306  0.049619  ...      0.781000   \n",
       " 3      1.133384    1.148216    -0.312974  0.049619  ...     -1.584289   \n",
       " 4     -0.122694   -0.059854    -0.312974  0.049619  ...      0.781000   \n",
       " ...         ...         ...          ...       ...  ...           ...   \n",
       " 27586 -0.383389   -0.059854    -0.312974  0.049619  ...     -0.007430   \n",
       " 27587 -0.576541   -0.059854    -0.312974  0.049619  ...      0.781000   \n",
       " 27588 -0.383389   -0.059854    -0.312974  0.049619  ...      0.781000   \n",
       " 27589  1.417779    1.148216     1.444306  0.049619  ...     -0.007430   \n",
       " 27590 -0.659252   -1.267924    -0.312974  0.049619  ...     -1.584289   \n",
       " \n",
       "        constructionTime  renovationCondition  buildingStructure  ladderRatio  \\\n",
       " 0              0.581649            -0.320131           0.787317    -0.856996   \n",
       " 1              0.467763             0.753366           0.787317     1.483145   \n",
       " 2              0.581649            -0.320131           0.787317     0.614693   \n",
       " 3              0.923306            -2.467125           0.787317    -0.565778   \n",
       " 4             -4.543201            -1.393628          -1.334005    -0.253760   \n",
       " ...                 ...                  ...                ...          ...   \n",
       " 27586          0.126107            -0.320131           0.787317    -0.253760   \n",
       " 27587         -2.037719             0.753366           0.787317    -0.685386   \n",
       " 27588         -1.582176            -0.320131          -0.273344    -0.253760   \n",
       " 27589          0.923306            -0.320131           0.787317     0.094662   \n",
       " 27590          0.695535             0.753366           0.787317    -1.117012   \n",
       " \n",
       "        elevator  fiveYearsProperty    subway  district  communityAverage  \n",
       " 0      0.829793          -1.083145  0.800474  0.126742         -0.359769  \n",
       " 1      0.829793           0.923237 -1.249260  0.126742          0.312093  \n",
       " 2      0.829793          -1.083145 -1.249260  0.126742         -0.700116  \n",
       " 3      0.829793          -1.083145 -1.249260 -0.237788         -0.566852  \n",
       " 4     -1.205120           0.923237  0.800474 -2.060436         -0.075446  \n",
       " ...         ...                ...       ...       ...               ...  \n",
       " 27586  0.829793          -1.083145 -1.249260  0.126742         -0.447529  \n",
       " 27587 -1.205120          -1.083145  0.800474  0.126742          0.003135  \n",
       " 27588 -1.205120           0.923237 -1.249260  0.126742         -0.370290  \n",
       " 27589  0.829793          -1.083145  0.800474 -0.966847         -0.771770  \n",
       " 27590  0.829793           0.923237  0.800474  0.126742          0.418384  \n",
       " \n",
       " [27591 rows x 21 columns],\n",
       " 0        31680\n",
       " 1        43436\n",
       " 2        52021\n",
       " 3        22202\n",
       " 4        48396\n",
       "          ...  \n",
       " 27586    52143\n",
       " 27587    64350\n",
       " 27588    41429\n",
       " 27589    39042\n",
       " 27590    63400\n",
       " Name: price, Length: 27591, dtype: int64)"
      ]
     },
     "execution_count": 16,
     "metadata": {},
     "output_type": "execute_result"
    }
   ],
   "source": [
    "from sklearn.model_selection import train_test_split\n",
    "X = data.loc[:, data.columns != 'price']\n",
    "y = data.loc[:, 'price']\n",
    "\n",
    "X,y"
   ]
  },
  {
   "cell_type": "code",
   "execution_count": 17,
   "id": "611fa6a9",
   "metadata": {},
   "outputs": [],
   "source": [
    "X_train, X_test, y_train, y_test = train_test_split(X, y, test_size = 0.2, random_state = 1)"
   ]
  },
  {
   "cell_type": "code",
   "execution_count": 18,
   "id": "9fe26c01",
   "metadata": {},
   "outputs": [
    {
     "data": {
      "text/plain": [
       "((22072, 21), (5519, 21), (22072,), (5519,))"
      ]
     },
     "execution_count": 18,
     "metadata": {},
     "output_type": "execute_result"
    }
   ],
   "source": [
    "X_train.shape, X_test.shape, y_train.shape, y_test.shape"
   ]
  },
  {
   "cell_type": "markdown",
   "id": "a5841811",
   "metadata": {},
   "source": [
    "# Model Linear Regression"
   ]
  },
  {
   "cell_type": "code",
   "execution_count": 19,
   "id": "a13f6a97",
   "metadata": {},
   "outputs": [],
   "source": [
    "import numpy as np\n",
    "import pandas as pd\n",
    "from sklearn.model_selection import train_test_split\n",
    "from sklearn.linear_model import LinearRegression\n",
    "from sklearn.metrics import r2_score"
   ]
  },
  {
   "cell_type": "code",
   "execution_count": 20,
   "id": "9100f46a",
   "metadata": {},
   "outputs": [],
   "source": [
    "X = data.drop('price', axis=1)\n",
    "y = data['price']"
   ]
  },
  {
   "cell_type": "code",
   "execution_count": 21,
   "id": "686a0ab7",
   "metadata": {},
   "outputs": [],
   "source": [
    "test_sizes = [0.2, 0.25, 0.3]"
   ]
  },
  {
   "cell_type": "code",
   "execution_count": 22,
   "id": "8e962a6e",
   "metadata": {},
   "outputs": [],
   "source": [
    "r2_scores = []"
   ]
  },
  {
   "cell_type": "code",
   "execution_count": 23,
   "id": "1030954a",
   "metadata": {},
   "outputs": [
    {
     "name": "stdout",
     "output_type": "stream",
     "text": [
      "R2 score for test size 0.2: 0.9081270157510535\n",
      "R2 score for test size 0.25: 0.909452873838538\n",
      "R2 score for test size 0.3: 0.9112086240501861\n"
     ]
    }
   ],
   "source": [
    "for test_size in test_sizes:\n",
    "    X_train, X_test, y_train, y_test = train_test_split(X, y, test_size=test_size, random_state=42)\n",
    "\n",
    "    model = LinearRegression()\n",
    "    model.fit(X_train, y_train)\n",
    "    \n",
    "    y_pred = model.predict(X_test)\n",
    "    \n",
    "    r2 = r2_score(y_test, y_pred)\n",
    "    r2_scores.append(r2)\n",
    "    \n",
    "for i, test_size in enumerate(test_sizes):\n",
    "    print(f\"R2 score for test size {test_size}: {r2_scores[i]}\")"
   ]
  },
  {
   "cell_type": "markdown",
   "id": "b3f66288",
   "metadata": {},
   "source": [
    "# Random Forest"
   ]
  },
  {
   "cell_type": "code",
   "execution_count": 24,
   "id": "33d9f874",
   "metadata": {},
   "outputs": [],
   "source": [
    "from sklearn.feature_selection import SelectKBest, f_regression\n",
    "from sklearn.ensemble import RandomForestClassifier\n",
    "from sklearn.utils import resample"
   ]
  },
  {
   "cell_type": "code",
   "execution_count": 25,
   "id": "75f68b86",
   "metadata": {},
   "outputs": [],
   "source": [
    "selector = SelectKBest(score_func=f_regression, k=10)\n",
    "X_train_selected = selector.fit_transform(X_train, y_train)"
   ]
  },
  {
   "cell_type": "code",
   "execution_count": 26,
   "id": "ef98b955",
   "metadata": {},
   "outputs": [
    {
     "data": {
      "text/html": [
       "<style>#sk-container-id-1 {color: black;background-color: white;}#sk-container-id-1 pre{padding: 0;}#sk-container-id-1 div.sk-toggleable {background-color: white;}#sk-container-id-1 label.sk-toggleable__label {cursor: pointer;display: block;width: 100%;margin-bottom: 0;padding: 0.3em;box-sizing: border-box;text-align: center;}#sk-container-id-1 label.sk-toggleable__label-arrow:before {content: \"▸\";float: left;margin-right: 0.25em;color: #696969;}#sk-container-id-1 label.sk-toggleable__label-arrow:hover:before {color: black;}#sk-container-id-1 div.sk-estimator:hover label.sk-toggleable__label-arrow:before {color: black;}#sk-container-id-1 div.sk-toggleable__content {max-height: 0;max-width: 0;overflow: hidden;text-align: left;background-color: #f0f8ff;}#sk-container-id-1 div.sk-toggleable__content pre {margin: 0.2em;color: black;border-radius: 0.25em;background-color: #f0f8ff;}#sk-container-id-1 input.sk-toggleable__control:checked~div.sk-toggleable__content {max-height: 200px;max-width: 100%;overflow: auto;}#sk-container-id-1 input.sk-toggleable__control:checked~label.sk-toggleable__label-arrow:before {content: \"▾\";}#sk-container-id-1 div.sk-estimator input.sk-toggleable__control:checked~label.sk-toggleable__label {background-color: #d4ebff;}#sk-container-id-1 div.sk-label input.sk-toggleable__control:checked~label.sk-toggleable__label {background-color: #d4ebff;}#sk-container-id-1 input.sk-hidden--visually {border: 0;clip: rect(1px 1px 1px 1px);clip: rect(1px, 1px, 1px, 1px);height: 1px;margin: -1px;overflow: hidden;padding: 0;position: absolute;width: 1px;}#sk-container-id-1 div.sk-estimator {font-family: monospace;background-color: #f0f8ff;border: 1px dotted black;border-radius: 0.25em;box-sizing: border-box;margin-bottom: 0.5em;}#sk-container-id-1 div.sk-estimator:hover {background-color: #d4ebff;}#sk-container-id-1 div.sk-parallel-item::after {content: \"\";width: 100%;border-bottom: 1px solid gray;flex-grow: 1;}#sk-container-id-1 div.sk-label:hover label.sk-toggleable__label {background-color: #d4ebff;}#sk-container-id-1 div.sk-serial::before {content: \"\";position: absolute;border-left: 1px solid gray;box-sizing: border-box;top: 0;bottom: 0;left: 50%;z-index: 0;}#sk-container-id-1 div.sk-serial {display: flex;flex-direction: column;align-items: center;background-color: white;padding-right: 0.2em;padding-left: 0.2em;position: relative;}#sk-container-id-1 div.sk-item {position: relative;z-index: 1;}#sk-container-id-1 div.sk-parallel {display: flex;align-items: stretch;justify-content: center;background-color: white;position: relative;}#sk-container-id-1 div.sk-item::before, #sk-container-id-1 div.sk-parallel-item::before {content: \"\";position: absolute;border-left: 1px solid gray;box-sizing: border-box;top: 0;bottom: 0;left: 50%;z-index: -1;}#sk-container-id-1 div.sk-parallel-item {display: flex;flex-direction: column;z-index: 1;position: relative;background-color: white;}#sk-container-id-1 div.sk-parallel-item:first-child::after {align-self: flex-end;width: 50%;}#sk-container-id-1 div.sk-parallel-item:last-child::after {align-self: flex-start;width: 50%;}#sk-container-id-1 div.sk-parallel-item:only-child::after {width: 0;}#sk-container-id-1 div.sk-dashed-wrapped {border: 1px dashed gray;margin: 0 0.4em 0.5em 0.4em;box-sizing: border-box;padding-bottom: 0.4em;background-color: white;}#sk-container-id-1 div.sk-label label {font-family: monospace;font-weight: bold;display: inline-block;line-height: 1.2em;}#sk-container-id-1 div.sk-label-container {text-align: center;}#sk-container-id-1 div.sk-container {/* jupyter's `normalize.less` sets `[hidden] { display: none; }` but bootstrap.min.css set `[hidden] { display: none !important; }` so we also need the `!important` here to be able to override the default hidden behavior on the sphinx rendered scikit-learn.org. See: https://github.com/scikit-learn/scikit-learn/issues/21755 */display: inline-block !important;position: relative;}#sk-container-id-1 div.sk-text-repr-fallback {display: none;}</style><div id=\"sk-container-id-1\" class=\"sk-top-container\"><div class=\"sk-text-repr-fallback\"><pre>RandomForestClassifier(max_depth=5, n_estimators=50)</pre><b>In a Jupyter environment, please rerun this cell to show the HTML representation or trust the notebook. <br />On GitHub, the HTML representation is unable to render, please try loading this page with nbviewer.org.</b></div><div class=\"sk-container\" hidden><div class=\"sk-item\"><div class=\"sk-estimator sk-toggleable\"><input class=\"sk-toggleable__control sk-hidden--visually\" id=\"sk-estimator-id-1\" type=\"checkbox\" checked><label for=\"sk-estimator-id-1\" class=\"sk-toggleable__label sk-toggleable__label-arrow\">RandomForestClassifier</label><div class=\"sk-toggleable__content\"><pre>RandomForestClassifier(max_depth=5, n_estimators=50)</pre></div></div></div></div></div>"
      ],
      "text/plain": [
       "RandomForestClassifier(max_depth=5, n_estimators=50)"
      ]
     },
     "execution_count": 26,
     "metadata": {},
     "output_type": "execute_result"
    }
   ],
   "source": [
    "model = RandomForestClassifier(n_estimators=50, max_depth=5)\n",
    "model.fit(X_train_selected, y_train)"
   ]
  },
  {
   "cell_type": "code",
   "execution_count": 27,
   "id": "59403a71",
   "metadata": {},
   "outputs": [],
   "source": [
    "X_train_sampled, y_train_sampled = resample(X_train_selected, y_train, n_samples=1000)"
   ]
  },
  {
   "cell_type": "code",
   "execution_count": 28,
   "id": "eadbe221",
   "metadata": {},
   "outputs": [
    {
     "data": {
      "text/html": [
       "<style>#sk-container-id-2 {color: black;background-color: white;}#sk-container-id-2 pre{padding: 0;}#sk-container-id-2 div.sk-toggleable {background-color: white;}#sk-container-id-2 label.sk-toggleable__label {cursor: pointer;display: block;width: 100%;margin-bottom: 0;padding: 0.3em;box-sizing: border-box;text-align: center;}#sk-container-id-2 label.sk-toggleable__label-arrow:before {content: \"▸\";float: left;margin-right: 0.25em;color: #696969;}#sk-container-id-2 label.sk-toggleable__label-arrow:hover:before {color: black;}#sk-container-id-2 div.sk-estimator:hover label.sk-toggleable__label-arrow:before {color: black;}#sk-container-id-2 div.sk-toggleable__content {max-height: 0;max-width: 0;overflow: hidden;text-align: left;background-color: #f0f8ff;}#sk-container-id-2 div.sk-toggleable__content pre {margin: 0.2em;color: black;border-radius: 0.25em;background-color: #f0f8ff;}#sk-container-id-2 input.sk-toggleable__control:checked~div.sk-toggleable__content {max-height: 200px;max-width: 100%;overflow: auto;}#sk-container-id-2 input.sk-toggleable__control:checked~label.sk-toggleable__label-arrow:before {content: \"▾\";}#sk-container-id-2 div.sk-estimator input.sk-toggleable__control:checked~label.sk-toggleable__label {background-color: #d4ebff;}#sk-container-id-2 div.sk-label input.sk-toggleable__control:checked~label.sk-toggleable__label {background-color: #d4ebff;}#sk-container-id-2 input.sk-hidden--visually {border: 0;clip: rect(1px 1px 1px 1px);clip: rect(1px, 1px, 1px, 1px);height: 1px;margin: -1px;overflow: hidden;padding: 0;position: absolute;width: 1px;}#sk-container-id-2 div.sk-estimator {font-family: monospace;background-color: #f0f8ff;border: 1px dotted black;border-radius: 0.25em;box-sizing: border-box;margin-bottom: 0.5em;}#sk-container-id-2 div.sk-estimator:hover {background-color: #d4ebff;}#sk-container-id-2 div.sk-parallel-item::after {content: \"\";width: 100%;border-bottom: 1px solid gray;flex-grow: 1;}#sk-container-id-2 div.sk-label:hover label.sk-toggleable__label {background-color: #d4ebff;}#sk-container-id-2 div.sk-serial::before {content: \"\";position: absolute;border-left: 1px solid gray;box-sizing: border-box;top: 0;bottom: 0;left: 50%;z-index: 0;}#sk-container-id-2 div.sk-serial {display: flex;flex-direction: column;align-items: center;background-color: white;padding-right: 0.2em;padding-left: 0.2em;position: relative;}#sk-container-id-2 div.sk-item {position: relative;z-index: 1;}#sk-container-id-2 div.sk-parallel {display: flex;align-items: stretch;justify-content: center;background-color: white;position: relative;}#sk-container-id-2 div.sk-item::before, #sk-container-id-2 div.sk-parallel-item::before {content: \"\";position: absolute;border-left: 1px solid gray;box-sizing: border-box;top: 0;bottom: 0;left: 50%;z-index: -1;}#sk-container-id-2 div.sk-parallel-item {display: flex;flex-direction: column;z-index: 1;position: relative;background-color: white;}#sk-container-id-2 div.sk-parallel-item:first-child::after {align-self: flex-end;width: 50%;}#sk-container-id-2 div.sk-parallel-item:last-child::after {align-self: flex-start;width: 50%;}#sk-container-id-2 div.sk-parallel-item:only-child::after {width: 0;}#sk-container-id-2 div.sk-dashed-wrapped {border: 1px dashed gray;margin: 0 0.4em 0.5em 0.4em;box-sizing: border-box;padding-bottom: 0.4em;background-color: white;}#sk-container-id-2 div.sk-label label {font-family: monospace;font-weight: bold;display: inline-block;line-height: 1.2em;}#sk-container-id-2 div.sk-label-container {text-align: center;}#sk-container-id-2 div.sk-container {/* jupyter's `normalize.less` sets `[hidden] { display: none; }` but bootstrap.min.css set `[hidden] { display: none !important; }` so we also need the `!important` here to be able to override the default hidden behavior on the sphinx rendered scikit-learn.org. See: https://github.com/scikit-learn/scikit-learn/issues/21755 */display: inline-block !important;position: relative;}#sk-container-id-2 div.sk-text-repr-fallback {display: none;}</style><div id=\"sk-container-id-2\" class=\"sk-top-container\"><div class=\"sk-text-repr-fallback\"><pre>RandomForestClassifier(max_depth=5, n_estimators=50)</pre><b>In a Jupyter environment, please rerun this cell to show the HTML representation or trust the notebook. <br />On GitHub, the HTML representation is unable to render, please try loading this page with nbviewer.org.</b></div><div class=\"sk-container\" hidden><div class=\"sk-item\"><div class=\"sk-estimator sk-toggleable\"><input class=\"sk-toggleable__control sk-hidden--visually\" id=\"sk-estimator-id-2\" type=\"checkbox\" checked><label for=\"sk-estimator-id-2\" class=\"sk-toggleable__label sk-toggleable__label-arrow\">RandomForestClassifier</label><div class=\"sk-toggleable__content\"><pre>RandomForestClassifier(max_depth=5, n_estimators=50)</pre></div></div></div></div></div>"
      ],
      "text/plain": [
       "RandomForestClassifier(max_depth=5, n_estimators=50)"
      ]
     },
     "execution_count": 28,
     "metadata": {},
     "output_type": "execute_result"
    }
   ],
   "source": [
    "model.fit(X_train_sampled, y_train_sampled)"
   ]
  },
  {
   "cell_type": "code",
   "execution_count": 29,
   "id": "63568fd1",
   "metadata": {},
   "outputs": [
    {
     "name": "stdout",
     "output_type": "stream",
     "text": [
      "Testing Accuracy: 0.000724812756704518\n"
     ]
    }
   ],
   "source": [
    "X_test_selected = selector.transform(X_test)\n",
    "y_pred = model.predict(X_test_selected)\n",
    "\n",
    "print(\"Testing Accuracy:\", model.score(X_test_selected, y_test))"
   ]
  },
  {
   "cell_type": "markdown",
   "id": "b3e74491",
   "metadata": {},
   "source": [
    "# Model building"
   ]
  },
  {
   "cell_type": "code",
   "execution_count": 30,
   "id": "7e387885",
   "metadata": {},
   "outputs": [
    {
     "name": "stdout",
     "output_type": "stream",
     "text": [
      "Requirement already satisfied: tensorflow in c:\\users\\monte\\anaconda3\\lib\\site-packages (2.16.1)\n",
      "Requirement already satisfied: tensorflow-intel==2.16.1 in c:\\users\\monte\\anaconda3\\lib\\site-packages (from tensorflow) (2.16.1)\n",
      "Requirement already satisfied: absl-py>=1.0.0 in c:\\users\\monte\\anaconda3\\lib\\site-packages (from tensorflow-intel==2.16.1->tensorflow) (2.1.0)\n",
      "Requirement already satisfied: astunparse>=1.6.0 in c:\\users\\monte\\anaconda3\\lib\\site-packages (from tensorflow-intel==2.16.1->tensorflow) (1.6.3)\n",
      "Requirement already satisfied: flatbuffers>=23.5.26 in c:\\users\\monte\\anaconda3\\lib\\site-packages (from tensorflow-intel==2.16.1->tensorflow) (24.3.25)\n",
      "Requirement already satisfied: gast!=0.5.0,!=0.5.1,!=0.5.2,>=0.2.1 in c:\\users\\monte\\anaconda3\\lib\\site-packages (from tensorflow-intel==2.16.1->tensorflow) (0.5.4)\n",
      "Requirement already satisfied: google-pasta>=0.1.1 in c:\\users\\monte\\anaconda3\\lib\\site-packages (from tensorflow-intel==2.16.1->tensorflow) (0.2.0)\n",
      "Requirement already satisfied: h5py>=3.10.0 in c:\\users\\monte\\anaconda3\\lib\\site-packages (from tensorflow-intel==2.16.1->tensorflow) (3.11.0)\n",
      "Requirement already satisfied: libclang>=13.0.0 in c:\\users\\monte\\anaconda3\\lib\\site-packages (from tensorflow-intel==2.16.1->tensorflow) (18.1.1)\n",
      "Requirement already satisfied: ml-dtypes~=0.3.1 in c:\\users\\monte\\anaconda3\\lib\\site-packages (from tensorflow-intel==2.16.1->tensorflow) (0.3.2)\n",
      "Requirement already satisfied: opt-einsum>=2.3.2 in c:\\users\\monte\\anaconda3\\lib\\site-packages (from tensorflow-intel==2.16.1->tensorflow) (3.3.0)\n",
      "Requirement already satisfied: packaging in c:\\users\\monte\\anaconda3\\lib\\site-packages (from tensorflow-intel==2.16.1->tensorflow) (23.1)\n",
      "Requirement already satisfied: protobuf!=4.21.0,!=4.21.1,!=4.21.2,!=4.21.3,!=4.21.4,!=4.21.5,<5.0.0dev,>=3.20.3 in c:\\users\\monte\\anaconda3\\lib\\site-packages (from tensorflow-intel==2.16.1->tensorflow) (3.20.3)\n",
      "Requirement already satisfied: requests<3,>=2.21.0 in c:\\users\\monte\\anaconda3\\lib\\site-packages (from tensorflow-intel==2.16.1->tensorflow) (2.31.0)\n",
      "Requirement already satisfied: setuptools in c:\\users\\monte\\anaconda3\\lib\\site-packages (from tensorflow-intel==2.16.1->tensorflow) (68.2.2)\n",
      "Requirement already satisfied: six>=1.12.0 in c:\\users\\monte\\anaconda3\\lib\\site-packages (from tensorflow-intel==2.16.1->tensorflow) (1.16.0)\n",
      "Requirement already satisfied: termcolor>=1.1.0 in c:\\users\\monte\\anaconda3\\lib\\site-packages (from tensorflow-intel==2.16.1->tensorflow) (2.4.0)\n",
      "Requirement already satisfied: typing-extensions>=3.6.6 in c:\\users\\monte\\anaconda3\\lib\\site-packages (from tensorflow-intel==2.16.1->tensorflow) (4.9.0)\n",
      "Requirement already satisfied: wrapt>=1.11.0 in c:\\users\\monte\\anaconda3\\lib\\site-packages (from tensorflow-intel==2.16.1->tensorflow) (1.14.1)\n",
      "Requirement already satisfied: grpcio<2.0,>=1.24.3 in c:\\users\\monte\\anaconda3\\lib\\site-packages (from tensorflow-intel==2.16.1->tensorflow) (1.62.2)\n",
      "Requirement already satisfied: tensorboard<2.17,>=2.16 in c:\\users\\monte\\anaconda3\\lib\\site-packages (from tensorflow-intel==2.16.1->tensorflow) (2.16.2)\n",
      "Requirement already satisfied: keras>=3.0.0 in c:\\users\\monte\\anaconda3\\lib\\site-packages (from tensorflow-intel==2.16.1->tensorflow) (3.3.2)\n",
      "Requirement already satisfied: tensorflow-io-gcs-filesystem>=0.23.1 in c:\\users\\monte\\anaconda3\\lib\\site-packages (from tensorflow-intel==2.16.1->tensorflow) (0.31.0)\n",
      "Requirement already satisfied: numpy<2.0.0,>=1.23.5 in c:\\users\\monte\\anaconda3\\lib\\site-packages (from tensorflow-intel==2.16.1->tensorflow) (1.26.4)\n",
      "Requirement already satisfied: wheel<1.0,>=0.23.0 in c:\\users\\monte\\anaconda3\\lib\\site-packages (from astunparse>=1.6.0->tensorflow-intel==2.16.1->tensorflow) (0.41.2)\n",
      "Requirement already satisfied: rich in c:\\users\\monte\\anaconda3\\lib\\site-packages (from keras>=3.0.0->tensorflow-intel==2.16.1->tensorflow) (13.3.5)\n",
      "Requirement already satisfied: namex in c:\\users\\monte\\anaconda3\\lib\\site-packages (from keras>=3.0.0->tensorflow-intel==2.16.1->tensorflow) (0.0.8)\n",
      "Requirement already satisfied: optree in c:\\users\\monte\\anaconda3\\lib\\site-packages (from keras>=3.0.0->tensorflow-intel==2.16.1->tensorflow) (0.11.0)\n",
      "Requirement already satisfied: charset-normalizer<4,>=2 in c:\\users\\monte\\anaconda3\\lib\\site-packages (from requests<3,>=2.21.0->tensorflow-intel==2.16.1->tensorflow) (2.0.4)\n",
      "Requirement already satisfied: idna<4,>=2.5 in c:\\users\\monte\\anaconda3\\lib\\site-packages (from requests<3,>=2.21.0->tensorflow-intel==2.16.1->tensorflow) (3.4)\n",
      "Requirement already satisfied: urllib3<3,>=1.21.1 in c:\\users\\monte\\anaconda3\\lib\\site-packages (from requests<3,>=2.21.0->tensorflow-intel==2.16.1->tensorflow) (2.0.7)\n",
      "Requirement already satisfied: certifi>=2017.4.17 in c:\\users\\monte\\anaconda3\\lib\\site-packages (from requests<3,>=2.21.0->tensorflow-intel==2.16.1->tensorflow) (2024.2.2)\n",
      "Requirement already satisfied: markdown>=2.6.8 in c:\\users\\monte\\anaconda3\\lib\\site-packages (from tensorboard<2.17,>=2.16->tensorflow-intel==2.16.1->tensorflow) (3.4.1)\n",
      "Requirement already satisfied: tensorboard-data-server<0.8.0,>=0.7.0 in c:\\users\\monte\\anaconda3\\lib\\site-packages (from tensorboard<2.17,>=2.16->tensorflow-intel==2.16.1->tensorflow) (0.7.2)\n",
      "Requirement already satisfied: werkzeug>=1.0.1 in c:\\users\\monte\\anaconda3\\lib\\site-packages (from tensorboard<2.17,>=2.16->tensorflow-intel==2.16.1->tensorflow) (2.2.3)\n",
      "Requirement already satisfied: MarkupSafe>=2.1.1 in c:\\users\\monte\\anaconda3\\lib\\site-packages (from werkzeug>=1.0.1->tensorboard<2.17,>=2.16->tensorflow-intel==2.16.1->tensorflow) (2.1.3)\n",
      "Requirement already satisfied: markdown-it-py<3.0.0,>=2.2.0 in c:\\users\\monte\\anaconda3\\lib\\site-packages (from rich->keras>=3.0.0->tensorflow-intel==2.16.1->tensorflow) (2.2.0)\n",
      "Requirement already satisfied: pygments<3.0.0,>=2.13.0 in c:\\users\\monte\\anaconda3\\lib\\site-packages (from rich->keras>=3.0.0->tensorflow-intel==2.16.1->tensorflow) (2.15.1)\n",
      "Requirement already satisfied: mdurl~=0.1 in c:\\users\\monte\\anaconda3\\lib\\site-packages (from markdown-it-py<3.0.0,>=2.2.0->rich->keras>=3.0.0->tensorflow-intel==2.16.1->tensorflow) (0.1.0)\n"
     ]
    }
   ],
   "source": [
    "! pip install tensorflow"
   ]
  },
  {
   "cell_type": "code",
   "execution_count": 31,
   "id": "b0ce5973",
   "metadata": {},
   "outputs": [],
   "source": [
    "import numpy as np\n",
    "import random\n",
    "import tensorflow\n",
    "from sklearn.model_selection import train_test_split\n",
    "from keras.models import Sequential\n",
    "from keras.layers import Dense"
   ]
  },
  {
   "cell_type": "code",
   "execution_count": 32,
   "id": "4bf7f42f",
   "metadata": {},
   "outputs": [],
   "source": [
    "tensorflow.random.set_seed(9)\n",
    "np.random.seed(1)\n",
    "random.seed(1)"
   ]
  },
  {
   "cell_type": "code",
   "execution_count": 33,
   "id": "3b308362",
   "metadata": {},
   "outputs": [],
   "source": [
    "X_train, X_test, y_train, y_test = train_test_split(X, y, test_size=0.2, random_state=42)"
   ]
  },
  {
   "cell_type": "markdown",
   "id": "06057754",
   "metadata": {},
   "source": [
    "# Neural network model definition"
   ]
  },
  {
   "cell_type": "code",
   "execution_count": 34,
   "id": "8867c501",
   "metadata": {},
   "outputs": [
    {
     "name": "stderr",
     "output_type": "stream",
     "text": [
      "C:\\Users\\monte\\anaconda3\\Lib\\site-packages\\keras\\src\\layers\\core\\dense.py:87: UserWarning: Do not pass an `input_shape`/`input_dim` argument to a layer. When using Sequential models, prefer using an `Input(shape)` object as the first layer in the model instead.\n",
      "  super().__init__(activity_regularizer=activity_regularizer, **kwargs)\n"
     ]
    }
   ],
   "source": [
    "model = Sequential()\n",
    "model.add(Dense(32, activation='relu', input_dim=21))\n",
    "model.add(Dense(32, activation='relu'))\n",
    "model.add(Dense(16, activation='relu'))\n",
    "model.add(Dense(1, activation='sigmoid'))"
   ]
  },
  {
   "cell_type": "markdown",
   "id": "bd80e7fe",
   "metadata": {},
   "source": [
    "# Model compilation"
   ]
  },
  {
   "cell_type": "code",
   "execution_count": 35,
   "id": "3ea0ba61",
   "metadata": {},
   "outputs": [],
   "source": [
    "model.compile(optimizer='adam',\n",
    "              loss='binary_crossentropy',\n",
    "              metrics=['accuracy'])"
   ]
  },
  {
   "cell_type": "markdown",
   "id": "6e689b86",
   "metadata": {},
   "source": [
    "# Model training"
   ]
  },
  {
   "cell_type": "code",
   "execution_count": 36,
   "id": "93b4e355",
   "metadata": {},
   "outputs": [
    {
     "name": "stdout",
     "output_type": "stream",
     "text": [
      "Epoch 1/100\n",
      "\u001b[1m690/690\u001b[0m \u001b[32m━━━━━━━━━━━━━━━━━━━━\u001b[0m\u001b[37m\u001b[0m \u001b[1m8s\u001b[0m 4ms/step - accuracy: 0.0000e+00 - loss: -238092448.0000\n",
      "Epoch 2/100\n",
      "\u001b[1m690/690\u001b[0m \u001b[32m━━━━━━━━━━━━━━━━━━━━\u001b[0m\u001b[37m\u001b[0m \u001b[1m6s\u001b[0m 5ms/step - accuracy: 0.0000e+00 - loss: -19489013760.0000\n",
      "Epoch 3/100\n",
      "\u001b[1m690/690\u001b[0m \u001b[32m━━━━━━━━━━━━━━━━━━━━\u001b[0m\u001b[37m\u001b[0m \u001b[1m2s\u001b[0m 3ms/step - accuracy: 0.0000e+00 - loss: -165492670464.0000\n",
      "Epoch 4/100\n",
      "\u001b[1m690/690\u001b[0m \u001b[32m━━━━━━━━━━━━━━━━━━━━\u001b[0m\u001b[37m\u001b[0m \u001b[1m3s\u001b[0m 4ms/step - accuracy: 0.0000e+00 - loss: -605395091456.0000\n",
      "Epoch 5/100\n",
      "\u001b[1m690/690\u001b[0m \u001b[32m━━━━━━━━━━━━━━━━━━━━\u001b[0m\u001b[37m\u001b[0m \u001b[1m3s\u001b[0m 4ms/step - accuracy: 0.0000e+00 - loss: -1509153308672.0000\n",
      "Epoch 6/100\n",
      "\u001b[1m690/690\u001b[0m \u001b[32m━━━━━━━━━━━━━━━━━━━━\u001b[0m\u001b[37m\u001b[0m \u001b[1m5s\u001b[0m 4ms/step - accuracy: 0.0000e+00 - loss: -3035392901120.0000\n",
      "Epoch 7/100\n",
      "\u001b[1m690/690\u001b[0m \u001b[32m━━━━━━━━━━━━━━━━━━━━\u001b[0m\u001b[37m\u001b[0m \u001b[1m2s\u001b[0m 3ms/step - accuracy: 0.0000e+00 - loss: -5339871707136.0000\n",
      "Epoch 8/100\n",
      "\u001b[1m690/690\u001b[0m \u001b[32m━━━━━━━━━━━━━━━━━━━━\u001b[0m\u001b[37m\u001b[0m \u001b[1m3s\u001b[0m 3ms/step - accuracy: 0.0000e+00 - loss: -8580723376128.0000\n",
      "Epoch 9/100\n",
      "\u001b[1m690/690\u001b[0m \u001b[32m━━━━━━━━━━━━━━━━━━━━\u001b[0m\u001b[37m\u001b[0m \u001b[1m2s\u001b[0m 3ms/step - accuracy: 0.0000e+00 - loss: -12921630359552.0000\n",
      "Epoch 10/100\n",
      "\u001b[1m690/690\u001b[0m \u001b[32m━━━━━━━━━━━━━━━━━━━━\u001b[0m\u001b[37m\u001b[0m \u001b[1m2s\u001b[0m 3ms/step - accuracy: 0.0000e+00 - loss: -18533993938944.0000\n",
      "Epoch 11/100\n",
      "\u001b[1m690/690\u001b[0m \u001b[32m━━━━━━━━━━━━━━━━━━━━\u001b[0m\u001b[37m\u001b[0m \u001b[1m2s\u001b[0m 2ms/step - accuracy: 0.0000e+00 - loss: -25597363355648.0000\n",
      "Epoch 12/100\n",
      "\u001b[1m690/690\u001b[0m \u001b[32m━━━━━━━━━━━━━━━━━━━━\u001b[0m\u001b[37m\u001b[0m \u001b[1m4s\u001b[0m 4ms/step - accuracy: 0.0000e+00 - loss: -34300305080320.0000\n",
      "Epoch 13/100\n",
      "\u001b[1m690/690\u001b[0m \u001b[32m━━━━━━━━━━━━━━━━━━━━\u001b[0m\u001b[37m\u001b[0m \u001b[1m2s\u001b[0m 3ms/step - accuracy: 0.0000e+00 - loss: -44840167407616.0000\n",
      "Epoch 14/100\n",
      "\u001b[1m690/690\u001b[0m \u001b[32m━━━━━━━━━━━━━━━━━━━━\u001b[0m\u001b[37m\u001b[0m \u001b[1m3s\u001b[0m 3ms/step - accuracy: 0.0000e+00 - loss: -57422764834816.0000\n",
      "Epoch 15/100\n",
      "\u001b[1m690/690\u001b[0m \u001b[32m━━━━━━━━━━━━━━━━━━━━\u001b[0m\u001b[37m\u001b[0m \u001b[1m3s\u001b[0m 3ms/step - accuracy: 0.0000e+00 - loss: -72262480822272.0000\n",
      "Epoch 16/100\n",
      "\u001b[1m690/690\u001b[0m \u001b[32m━━━━━━━━━━━━━━━━━━━━\u001b[0m\u001b[37m\u001b[0m \u001b[1m3s\u001b[0m 4ms/step - accuracy: 0.0000e+00 - loss: -89582313930752.0000\n",
      "Epoch 17/100\n",
      "\u001b[1m690/690\u001b[0m \u001b[32m━━━━━━━━━━━━━━━━━━━━\u001b[0m\u001b[37m\u001b[0m \u001b[1m3s\u001b[0m 5ms/step - accuracy: 0.0000e+00 - loss: -109614083342336.0000\n",
      "Epoch 18/100\n",
      "\u001b[1m690/690\u001b[0m \u001b[32m━━━━━━━━━━━━━━━━━━━━\u001b[0m\u001b[37m\u001b[0m \u001b[1m4s\u001b[0m 3ms/step - accuracy: 0.0000e+00 - loss: -132597451587584.0000\n",
      "Epoch 19/100\n",
      "\u001b[1m690/690\u001b[0m \u001b[32m━━━━━━━━━━━━━━━━━━━━\u001b[0m\u001b[37m\u001b[0m \u001b[1m4s\u001b[0m 5ms/step - accuracy: 0.0000e+00 - loss: -158780595634176.0000\n",
      "Epoch 20/100\n",
      "\u001b[1m690/690\u001b[0m \u001b[32m━━━━━━━━━━━━━━━━━━━━\u001b[0m\u001b[37m\u001b[0m \u001b[1m4s\u001b[0m 3ms/step - accuracy: 0.0000e+00 - loss: -188419695181824.0000\n",
      "Epoch 21/100\n",
      "\u001b[1m690/690\u001b[0m \u001b[32m━━━━━━━━━━━━━━━━━━━━\u001b[0m\u001b[37m\u001b[0m \u001b[1m2s\u001b[0m 3ms/step - accuracy: 0.0000e+00 - loss: -221779477921792.0000\n",
      "Epoch 22/100\n",
      "\u001b[1m690/690\u001b[0m \u001b[32m━━━━━━━━━━━━━━━━━━━━\u001b[0m\u001b[37m\u001b[0m \u001b[1m3s\u001b[0m 4ms/step - accuracy: 0.0000e+00 - loss: -259132221292544.0000\n",
      "Epoch 23/100\n",
      "\u001b[1m690/690\u001b[0m \u001b[32m━━━━━━━━━━━━━━━━━━━━\u001b[0m\u001b[37m\u001b[0m \u001b[1m5s\u001b[0m 3ms/step - accuracy: 0.0000e+00 - loss: -300758809444352.0000\n",
      "Epoch 24/100\n",
      "\u001b[1m690/690\u001b[0m \u001b[32m━━━━━━━━━━━━━━━━━━━━\u001b[0m\u001b[37m\u001b[0m \u001b[1m3s\u001b[0m 4ms/step - accuracy: 0.0000e+00 - loss: -346947760160768.0000\n",
      "Epoch 25/100\n",
      "\u001b[1m690/690\u001b[0m \u001b[32m━━━━━━━━━━━━━━━━━━━━\u001b[0m\u001b[37m\u001b[0m \u001b[1m2s\u001b[0m 3ms/step - accuracy: 0.0000e+00 - loss: -397996600590336.0000\n",
      "Epoch 26/100\n",
      "\u001b[1m690/690\u001b[0m \u001b[32m━━━━━━━━━━━━━━━━━━━━\u001b[0m\u001b[37m\u001b[0m \u001b[1m2s\u001b[0m 3ms/step - accuracy: 0.0000e+00 - loss: -454210608955392.0000\n",
      "Epoch 27/100\n",
      "\u001b[1m690/690\u001b[0m \u001b[32m━━━━━━━━━━━━━━━━━━━━\u001b[0m\u001b[37m\u001b[0m \u001b[1m3s\u001b[0m 3ms/step - accuracy: 0.0000e+00 - loss: -515902076354560.0000\n",
      "Epoch 28/100\n",
      "\u001b[1m690/690\u001b[0m \u001b[32m━━━━━━━━━━━━━━━━━━━━\u001b[0m\u001b[37m\u001b[0m \u001b[1m3s\u001b[0m 4ms/step - accuracy: 0.0000e+00 - loss: -583392924008448.0000\n",
      "Epoch 29/100\n",
      "\u001b[1m690/690\u001b[0m \u001b[32m━━━━━━━━━━━━━━━━━━━━\u001b[0m\u001b[37m\u001b[0m \u001b[1m5s\u001b[0m 4ms/step - accuracy: 0.0000e+00 - loss: -657012018905088.0000\n",
      "Epoch 30/100\n",
      "\u001b[1m690/690\u001b[0m \u001b[32m━━━━━━━━━━━━━━━━━━━━\u001b[0m\u001b[37m\u001b[0m \u001b[1m2s\u001b[0m 3ms/step - accuracy: 0.0000e+00 - loss: -737096515977216.0000\n",
      "Epoch 31/100\n",
      "\u001b[1m690/690\u001b[0m \u001b[32m━━━━━━━━━━━━━━━━━━━━\u001b[0m\u001b[37m\u001b[0m \u001b[1m5s\u001b[0m 6ms/step - accuracy: 0.0000e+00 - loss: -823991086350336.0000\n",
      "Epoch 32/100\n",
      "\u001b[1m690/690\u001b[0m \u001b[32m━━━━━━━━━━━━━━━━━━━━\u001b[0m\u001b[37m\u001b[0m \u001b[1m4s\u001b[0m 5ms/step - accuracy: 0.0000e+00 - loss: -918048789757952.0000\n",
      "Epoch 33/100\n",
      "\u001b[1m690/690\u001b[0m \u001b[32m━━━━━━━━━━━━━━━━━━━━\u001b[0m\u001b[37m\u001b[0m \u001b[1m6s\u001b[0m 5ms/step - accuracy: 0.0000e+00 - loss: -1019630738997248.0000\n",
      "Epoch 34/100\n",
      "\u001b[1m690/690\u001b[0m \u001b[32m━━━━━━━━━━━━━━━━━━━━\u001b[0m\u001b[37m\u001b[0m \u001b[1m5s\u001b[0m 4ms/step - accuracy: 0.0000e+00 - loss: -1129106905235456.0000\n",
      "Epoch 35/100\n",
      "\u001b[1m690/690\u001b[0m \u001b[32m━━━━━━━━━━━━━━━━━━━━\u001b[0m\u001b[37m\u001b[0m \u001b[1m2s\u001b[0m 3ms/step - accuracy: 0.0000e+00 - loss: -1246851957260288.0000\n",
      "Epoch 36/100\n",
      "\u001b[1m690/690\u001b[0m \u001b[32m━━━━━━━━━━━━━━━━━━━━\u001b[0m\u001b[37m\u001b[0m \u001b[1m2s\u001b[0m 3ms/step - accuracy: 0.0000e+00 - loss: -1373252039475200.0000\n",
      "Epoch 37/100\n",
      "\u001b[1m690/690\u001b[0m \u001b[32m━━━━━━━━━━━━━━━━━━━━\u001b[0m\u001b[37m\u001b[0m \u001b[1m3s\u001b[0m 4ms/step - accuracy: 0.0000e+00 - loss: -1508696517509120.0000\n",
      "Epoch 38/100\n",
      "\u001b[1m690/690\u001b[0m \u001b[32m━━━━━━━━━━━━━━━━━━━━\u001b[0m\u001b[37m\u001b[0m \u001b[1m2s\u001b[0m 3ms/step - accuracy: 0.0000e+00 - loss: -1653593279037440.0000\n",
      "Epoch 39/100\n",
      "\u001b[1m690/690\u001b[0m \u001b[32m━━━━━━━━━━━━━━━━━━━━\u001b[0m\u001b[37m\u001b[0m \u001b[1m3s\u001b[0m 5ms/step - accuracy: 0.0000e+00 - loss: -1808343366631424.0000\n",
      "Epoch 40/100\n",
      "\u001b[1m690/690\u001b[0m \u001b[32m━━━━━━━━━━━━━━━━━━━━\u001b[0m\u001b[37m\u001b[0m \u001b[1m5s\u001b[0m 5ms/step - accuracy: 0.0000e+00 - loss: -1973364331642880.0000\n",
      "Epoch 41/100\n",
      "\u001b[1m690/690\u001b[0m \u001b[32m━━━━━━━━━━━━━━━━━━━━\u001b[0m\u001b[37m\u001b[0m \u001b[1m3s\u001b[0m 4ms/step - accuracy: 0.0000e+00 - loss: -2149082315358208.0000\n",
      "Epoch 42/100\n",
      "\u001b[1m690/690\u001b[0m \u001b[32m━━━━━━━━━━━━━━━━━━━━\u001b[0m\u001b[37m\u001b[0m \u001b[1m5s\u001b[0m 3ms/step - accuracy: 0.0000e+00 - loss: -2335923727499264.0000\n",
      "Epoch 43/100\n",
      "\u001b[1m690/690\u001b[0m \u001b[32m━━━━━━━━━━━━━━━━━━━━\u001b[0m\u001b[37m\u001b[0m \u001b[1m3s\u001b[0m 3ms/step - accuracy: 0.0000e+00 - loss: -2534337794801664.0000\n",
      "Epoch 44/100\n",
      "\u001b[1m690/690\u001b[0m \u001b[32m━━━━━━━━━━━━━━━━━━━━\u001b[0m\u001b[37m\u001b[0m \u001b[1m3s\u001b[0m 3ms/step - accuracy: 0.0000e+00 - loss: -2744758980050944.0000\n",
      "Epoch 45/100\n",
      "\u001b[1m690/690\u001b[0m \u001b[32m━━━━━━━━━━━━━━━━━━━━\u001b[0m\u001b[37m\u001b[0m \u001b[1m2s\u001b[0m 3ms/step - accuracy: 0.0000e+00 - loss: -2967656776859648.0000\n",
      "Epoch 46/100\n",
      "\u001b[1m690/690\u001b[0m \u001b[32m━━━━━━━━━━━━━━━━━━━━\u001b[0m\u001b[37m\u001b[0m \u001b[1m3s\u001b[0m 4ms/step - accuracy: 0.0000e+00 - loss: -3203481351487488.0000\n",
      "Epoch 47/100\n",
      "\u001b[1m690/690\u001b[0m \u001b[32m━━━━━━━━━━━━━━━━━━━━\u001b[0m\u001b[37m\u001b[0m \u001b[1m2s\u001b[0m 3ms/step - accuracy: 0.0000e+00 - loss: -3452716693061632.0000\n",
      "Epoch 48/100\n",
      "\u001b[1m690/690\u001b[0m \u001b[32m━━━━━━━━━━━━━━━━━━━━\u001b[0m\u001b[37m\u001b[0m \u001b[1m3s\u001b[0m 3ms/step - accuracy: 0.0000e+00 - loss: -3715828537098240.0000\n",
      "Epoch 49/100\n",
      "\u001b[1m690/690\u001b[0m \u001b[32m━━━━━━━━━━━━━━━━━━━━\u001b[0m\u001b[37m\u001b[0m \u001b[1m3s\u001b[0m 4ms/step - accuracy: 0.0000e+00 - loss: -3993307852046336.0000\n",
      "Epoch 50/100\n",
      "\u001b[1m690/690\u001b[0m \u001b[32m━━━━━━━━━━━━━━━━━━━━\u001b[0m\u001b[37m\u001b[0m \u001b[1m6s\u001b[0m 4ms/step - accuracy: 0.0000e+00 - loss: -4285655270031360.0000\n",
      "Epoch 51/100\n",
      "\u001b[1m690/690\u001b[0m \u001b[32m━━━━━━━━━━━━━━━━━━━━\u001b[0m\u001b[37m\u001b[0m \u001b[1m6s\u001b[0m 5ms/step - accuracy: 0.0000e+00 - loss: -4593351558955008.0000\n",
      "Epoch 52/100\n",
      "\u001b[1m690/690\u001b[0m \u001b[32m━━━━━━━━━━━━━━━━━━━━\u001b[0m\u001b[37m\u001b[0m \u001b[1m7s\u001b[0m 7ms/step - accuracy: 0.0000e+00 - loss: -4916927952584704.0000\n",
      "Epoch 53/100\n",
      "\u001b[1m690/690\u001b[0m \u001b[32m━━━━━━━━━━━━━━━━━━━━\u001b[0m\u001b[37m\u001b[0m \u001b[1m4s\u001b[0m 5ms/step - accuracy: 0.0000e+00 - loss: -5256903068221440.0000\n",
      "Epoch 54/100\n",
      "\u001b[1m690/690\u001b[0m \u001b[32m━━━━━━━━━━━━━━━━━━━━\u001b[0m\u001b[37m\u001b[0m \u001b[1m3s\u001b[0m 4ms/step - accuracy: 0.0000e+00 - loss: -5613775122071552.0000\n",
      "Epoch 55/100\n",
      "\u001b[1m690/690\u001b[0m \u001b[32m━━━━━━━━━━━━━━━━━━━━\u001b[0m\u001b[37m\u001b[0m \u001b[1m3s\u001b[0m 4ms/step - accuracy: 0.0000e+00 - loss: -5988098701787136.0000\n",
      "Epoch 56/100\n",
      "\u001b[1m690/690\u001b[0m \u001b[32m━━━━━━━━━━━━━━━━━━━━\u001b[0m\u001b[37m\u001b[0m \u001b[1m3s\u001b[0m 4ms/step - accuracy: 0.0000e+00 - loss: -6380424100052992.0000\n",
      "Epoch 57/100\n",
      "\u001b[1m690/690\u001b[0m \u001b[32m━━━━━━━━━━━━━━━━━━━━\u001b[0m\u001b[37m\u001b[0m \u001b[1m3s\u001b[0m 5ms/step - accuracy: 0.0000e+00 - loss: -6791272618524672.0000\n",
      "Epoch 58/100\n",
      "\u001b[1m690/690\u001b[0m \u001b[32m━━━━━━━━━━━━━━━━━━━━\u001b[0m\u001b[37m\u001b[0m \u001b[1m5s\u001b[0m 4ms/step - accuracy: 0.0000e+00 - loss: -7221207434788864.0000\n",
      "Epoch 59/100\n"
     ]
    },
    {
     "name": "stdout",
     "output_type": "stream",
     "text": [
      "\u001b[1m690/690\u001b[0m \u001b[32m━━━━━━━━━━━━━━━━━━━━\u001b[0m\u001b[37m\u001b[0m \u001b[1m6s\u001b[0m 5ms/step - accuracy: 0.0000e+00 - loss: -7670807295688704.0000\n",
      "Epoch 60/100\n",
      "\u001b[1m690/690\u001b[0m \u001b[32m━━━━━━━━━━━━━━━━━━━━\u001b[0m\u001b[37m\u001b[0m \u001b[1m5s\u001b[0m 4ms/step - accuracy: 0.0000e+00 - loss: -8140621957038080.0000\n",
      "Epoch 61/100\n",
      "\u001b[1m690/690\u001b[0m \u001b[32m━━━━━━━━━━━━━━━━━━━━\u001b[0m\u001b[37m\u001b[0m \u001b[1m2s\u001b[0m 3ms/step - accuracy: 0.0000e+00 - loss: -8631233386905600.0000\n",
      "Epoch 62/100\n",
      "\u001b[1m690/690\u001b[0m \u001b[32m━━━━━━━━━━━━━━━━━━━━\u001b[0m\u001b[37m\u001b[0m \u001b[1m3s\u001b[0m 3ms/step - accuracy: 0.0000e+00 - loss: -9143234827649024.0000\n",
      "Epoch 63/100\n",
      "\u001b[1m690/690\u001b[0m \u001b[32m━━━━━━━━━━━━━━━━━━━━\u001b[0m\u001b[37m\u001b[0m \u001b[1m4s\u001b[0m 6ms/step - accuracy: 0.0000e+00 - loss: -9677234554011648.0000\n",
      "Epoch 64/100\n",
      "\u001b[1m690/690\u001b[0m \u001b[32m━━━━━━━━━━━━━━━━━━━━\u001b[0m\u001b[37m\u001b[0m \u001b[1m3s\u001b[0m 4ms/step - accuracy: 0.0000e+00 - loss: -10233821513383936.0000\n",
      "Epoch 65/100\n",
      "\u001b[1m690/690\u001b[0m \u001b[32m━━━━━━━━━━━━━━━━━━━━\u001b[0m\u001b[37m\u001b[0m \u001b[1m3s\u001b[0m 4ms/step - accuracy: 0.0000e+00 - loss: -10813578747576320.0000\n",
      "Epoch 66/100\n",
      "\u001b[1m690/690\u001b[0m \u001b[32m━━━━━━━━━━━━━━━━━━━━\u001b[0m\u001b[37m\u001b[0m \u001b[1m4s\u001b[0m 5ms/step - accuracy: 0.0000e+00 - loss: -11417146206715904.0000\n",
      "Epoch 67/100\n",
      "\u001b[1m690/690\u001b[0m \u001b[32m━━━━━━━━━━━━━━━━━━━━\u001b[0m\u001b[37m\u001b[0m \u001b[1m2s\u001b[0m 3ms/step - accuracy: 0.0000e+00 - loss: -12045162767187968.0000\n",
      "Epoch 68/100\n",
      "\u001b[1m690/690\u001b[0m \u001b[32m━━━━━━━━━━━━━━━━━━━━\u001b[0m\u001b[37m\u001b[0m \u001b[1m3s\u001b[0m 4ms/step - accuracy: 0.0000e+00 - loss: -12698264084152320.0000\n",
      "Epoch 69/100\n",
      "\u001b[1m690/690\u001b[0m \u001b[32m━━━━━━━━━━━━━━━━━━━━\u001b[0m\u001b[37m\u001b[0m \u001b[1m5s\u001b[0m 4ms/step - accuracy: 0.0000e+00 - loss: -13377048231804928.0000\n",
      "Epoch 70/100\n",
      "\u001b[1m690/690\u001b[0m \u001b[32m━━━━━━━━━━━━━━━━━━━━\u001b[0m\u001b[37m\u001b[0m \u001b[1m6s\u001b[0m 5ms/step - accuracy: 0.0000e+00 - loss: -14082160528982016.0000\n",
      "Epoch 71/100\n",
      "\u001b[1m690/690\u001b[0m \u001b[32m━━━━━━━━━━━━━━━━━━━━\u001b[0m\u001b[37m\u001b[0m \u001b[1m5s\u001b[0m 4ms/step - accuracy: 0.0000e+00 - loss: -14814292465418240.0000\n",
      "Epoch 72/100\n",
      "\u001b[1m690/690\u001b[0m \u001b[32m━━━━━━━━━━━━━━━━━━━━\u001b[0m\u001b[37m\u001b[0m \u001b[1m2s\u001b[0m 3ms/step - accuracy: 0.0000e+00 - loss: -15574108687302656.0000\n",
      "Epoch 73/100\n",
      "\u001b[1m690/690\u001b[0m \u001b[32m━━━━━━━━━━━━━━━━━━━━\u001b[0m\u001b[37m\u001b[0m \u001b[1m3s\u001b[0m 5ms/step - accuracy: 0.0000e+00 - loss: -16362277062049792.0000\n",
      "Epoch 74/100\n",
      "\u001b[1m690/690\u001b[0m \u001b[32m━━━━━━━━━━━━━━━━━━━━\u001b[0m\u001b[37m\u001b[0m \u001b[1m6s\u001b[0m 6ms/step - accuracy: 0.0000e+00 - loss: -17179456867139584.0000\n",
      "Epoch 75/100\n",
      "\u001b[1m690/690\u001b[0m \u001b[32m━━━━━━━━━━━━━━━━━━━━\u001b[0m\u001b[37m\u001b[0m \u001b[1m2s\u001b[0m 4ms/step - accuracy: 0.0000e+00 - loss: -18026306306310144.0000\n",
      "Epoch 76/100\n",
      "\u001b[1m690/690\u001b[0m \u001b[32m━━━━━━━━━━━━━━━━━━━━\u001b[0m\u001b[37m\u001b[0m \u001b[1m3s\u001b[0m 4ms/step - accuracy: 0.0000e+00 - loss: -18903540491616256.0000\n",
      "Epoch 77/100\n",
      "\u001b[1m690/690\u001b[0m \u001b[32m━━━━━━━━━━━━━━━━━━━━\u001b[0m\u001b[37m\u001b[0m \u001b[1m5s\u001b[0m 4ms/step - accuracy: 0.0000e+00 - loss: -19811891714981888.0000\n",
      "Epoch 78/100\n",
      "\u001b[1m690/690\u001b[0m \u001b[32m━━━━━━━━━━━━━━━━━━━━\u001b[0m\u001b[37m\u001b[0m \u001b[1m3s\u001b[0m 4ms/step - accuracy: 0.0000e+00 - loss: -20752060056076288.0000\n",
      "Epoch 79/100\n",
      "\u001b[1m690/690\u001b[0m \u001b[32m━━━━━━━━━━━━━━━━━━━━\u001b[0m\u001b[37m\u001b[0m \u001b[1m2s\u001b[0m 3ms/step - accuracy: 0.0000e+00 - loss: -21724760626954240.0000\n",
      "Epoch 80/100\n",
      "\u001b[1m690/690\u001b[0m \u001b[32m━━━━━━━━━━━━━━━━━━━━\u001b[0m\u001b[37m\u001b[0m \u001b[1m3s\u001b[0m 4ms/step - accuracy: 0.0000e+00 - loss: -22730706392186880.0000\n",
      "Epoch 81/100\n",
      "\u001b[1m690/690\u001b[0m \u001b[32m━━━━━━━━━━━━━━━━━━━━\u001b[0m\u001b[37m\u001b[0m \u001b[1m6s\u001b[0m 5ms/step - accuracy: 0.0000e+00 - loss: -23770618906279936.0000\n",
      "Epoch 82/100\n",
      "\u001b[1m690/690\u001b[0m \u001b[32m━━━━━━━━━━━━━━━━━━━━\u001b[0m\u001b[37m\u001b[0m \u001b[1m3s\u001b[0m 4ms/step - accuracy: 0.0000e+00 - loss: -24845191806451712.0000\n",
      "Epoch 83/100\n",
      "\u001b[1m690/690\u001b[0m \u001b[32m━━━━━━━━━━━━━━━━━━━━\u001b[0m\u001b[37m\u001b[0m \u001b[1m3s\u001b[0m 4ms/step - accuracy: 0.0000e+00 - loss: -25955230399070208.0000\n",
      "Epoch 84/100\n",
      "\u001b[1m690/690\u001b[0m \u001b[32m━━━━━━━━━━━━━━━━━━━━\u001b[0m\u001b[37m\u001b[0m \u001b[1m3s\u001b[0m 4ms/step - accuracy: 0.0000e+00 - loss: -27101454091157504.0000\n",
      "Epoch 85/100\n",
      "\u001b[1m690/690\u001b[0m \u001b[32m━━━━━━━━━━━━━━━━━━━━\u001b[0m\u001b[37m\u001b[0m \u001b[1m4s\u001b[0m 3ms/step - accuracy: 0.0000e+00 - loss: -28284640271794176.0000\n",
      "Epoch 86/100\n",
      "\u001b[1m690/690\u001b[0m \u001b[32m━━━━━━━━━━━━━━━━━━━━\u001b[0m\u001b[37m\u001b[0m \u001b[1m3s\u001b[0m 4ms/step - accuracy: 0.0000e+00 - loss: -29505553445158912.0000\n",
      "Epoch 87/100\n",
      "\u001b[1m690/690\u001b[0m \u001b[32m━━━━━━━━━━━━━━━━━━━━\u001b[0m\u001b[37m\u001b[0m \u001b[1m2s\u001b[0m 3ms/step - accuracy: 0.0000e+00 - loss: -30765024687423488.0000\n",
      "Epoch 88/100\n",
      "\u001b[1m690/690\u001b[0m \u001b[32m━━━━━━━━━━━━━━━━━━━━\u001b[0m\u001b[37m\u001b[0m \u001b[1m3s\u001b[0m 4ms/step - accuracy: 0.0000e+00 - loss: -32063807765348352.0000\n",
      "Epoch 89/100\n",
      "\u001b[1m690/690\u001b[0m \u001b[32m━━━━━━━━━━━━━━━━━━━━\u001b[0m\u001b[37m\u001b[0m \u001b[1m2s\u001b[0m 3ms/step - accuracy: 0.0000e+00 - loss: -33402727312654336.0000\n",
      "Epoch 90/100\n",
      "\u001b[1m690/690\u001b[0m \u001b[32m━━━━━━━━━━━━━━━━━━━━\u001b[0m\u001b[37m\u001b[0m \u001b[1m2s\u001b[0m 3ms/step - accuracy: 0.0000e+00 - loss: -34782588635709440.0000\n",
      "Epoch 91/100\n",
      "\u001b[1m690/690\u001b[0m \u001b[32m━━━━━━━━━━━━━━━━━━━━\u001b[0m\u001b[37m\u001b[0m \u001b[1m2s\u001b[0m 3ms/step - accuracy: 0.0000e+00 - loss: -36204186303463424.0000\n",
      "Epoch 92/100\n",
      "\u001b[1m690/690\u001b[0m \u001b[32m━━━━━━━━━━━━━━━━━━━━\u001b[0m\u001b[37m\u001b[0m \u001b[1m2s\u001b[0m 3ms/step - accuracy: 0.0000e+00 - loss: -37668332064735232.0000\n",
      "Epoch 93/100\n",
      "\u001b[1m690/690\u001b[0m \u001b[32m━━━━━━━━━━━━━━━━━━━━\u001b[0m\u001b[37m\u001b[0m \u001b[1m5s\u001b[0m 6ms/step - accuracy: 0.0000e+00 - loss: -39175818340990976.0000\n",
      "Epoch 94/100\n",
      "\u001b[1m690/690\u001b[0m \u001b[32m━━━━━━━━━━━━━━━━━━━━\u001b[0m\u001b[37m\u001b[0m \u001b[1m5s\u001b[0m 5ms/step - accuracy: 0.0000e+00 - loss: -40727310852161536.0000\n",
      "Epoch 95/100\n",
      "\u001b[1m690/690\u001b[0m \u001b[32m━━━━━━━━━━━━━━━━━━━━\u001b[0m\u001b[37m\u001b[0m \u001b[1m5s\u001b[0m 4ms/step - accuracy: 0.0000e+00 - loss: -42323801735692288.0000\n",
      "Epoch 96/100\n",
      "\u001b[1m690/690\u001b[0m \u001b[32m━━━━━━━━━━━━━━━━━━━━\u001b[0m\u001b[37m\u001b[0m \u001b[1m5s\u001b[0m 4ms/step - accuracy: 0.0000e+00 - loss: -43966154280009728.0000\n",
      "Epoch 97/100\n",
      "\u001b[1m690/690\u001b[0m \u001b[32m━━━━━━━━━━━━━━━━━━━━\u001b[0m\u001b[37m\u001b[0m \u001b[1m3s\u001b[0m 4ms/step - accuracy: 0.0000e+00 - loss: -45655193118834688.0000\n",
      "Epoch 98/100\n",
      "\u001b[1m690/690\u001b[0m \u001b[32m━━━━━━━━━━━━━━━━━━━━\u001b[0m\u001b[37m\u001b[0m \u001b[1m5s\u001b[0m 3ms/step - accuracy: 0.0000e+00 - loss: -47391785835560960.0000\n",
      "Epoch 99/100\n",
      "\u001b[1m690/690\u001b[0m \u001b[32m━━━━━━━━━━━━━━━━━━━━\u001b[0m\u001b[37m\u001b[0m \u001b[1m4s\u001b[0m 4ms/step - accuracy: 0.0000e+00 - loss: -49176744179007488.0000\n",
      "Epoch 100/100\n",
      "\u001b[1m690/690\u001b[0m \u001b[32m━━━━━━━━━━━━━━━━━━━━\u001b[0m\u001b[37m\u001b[0m \u001b[1m2s\u001b[0m 3ms/step - accuracy: 0.0000e+00 - loss: -51011021631913984.0000\n"
     ]
    },
    {
     "data": {
      "text/plain": [
       "<keras.src.callbacks.history.History at 0x1fb77abf390>"
      ]
     },
     "execution_count": 36,
     "metadata": {},
     "output_type": "execute_result"
    }
   ],
   "source": [
    "model.fit(X_train, y_train, epochs=100, batch_size=32, verbose=1)"
   ]
  },
  {
   "cell_type": "markdown",
   "id": "65d0bbee",
   "metadata": {},
   "source": [
    "# Results analysis\n",
    "#### Having successfully trained our MLP, let's evaluate our model based on the testing accuracy, confusion matrix, and receiver operating characteristic (ROC) curve."
   ]
  },
  {
   "cell_type": "markdown",
   "id": "c710613c",
   "metadata": {},
   "source": [
    "# Testing accuracy"
   ]
  },
  {
   "cell_type": "code",
   "execution_count": 37,
   "id": "c7507949",
   "metadata": {},
   "outputs": [
    {
     "name": "stdout",
     "output_type": "stream",
     "text": [
      "Training Accuracy: 0.00%\n"
     ]
    }
   ],
   "source": [
    "train_scores = model.evaluate(X_train, y_train, verbose=0)\n",
    "print(\"Training Accuracy: %.2f%%\" % (train_scores[1]*100))"
   ]
  },
  {
   "cell_type": "code",
   "execution_count": 38,
   "id": "ec9a4fdf",
   "metadata": {},
   "outputs": [
    {
     "name": "stdout",
     "output_type": "stream",
     "text": [
      "Testing Accuracy: 0.00%\n"
     ]
    }
   ],
   "source": [
    "test_scores = model.evaluate(X_test, y_test, verbose=0)\n",
    "print(\"Testing Accuracy: %.2f%%\" % (test_scores[1]*100))"
   ]
  },
  {
   "cell_type": "markdown",
   "id": "c5d2b386",
   "metadata": {},
   "source": [
    "The accuracy is 89.25% and 80.52% on the training set and testing set respectively. The difference in accuracy between the training and testing set isn't surprising since the model was trained on the training set."
   ]
  },
  {
   "cell_type": "markdown",
   "id": "511c7949",
   "metadata": {},
   "source": [
    "## Hyperparameters"
   ]
  },
  {
   "cell_type": "code",
   "execution_count": 39,
   "id": "d757db0f",
   "metadata": {},
   "outputs": [],
   "source": [
    "import numpy as np\n",
    "neighbors = np.arange(1, 11)                  \n",
    "train_accuracy = np.zeros(len(neighbors))     \n",
    "test_accuracy = np.zeros(len(neighbors))"
   ]
  },
  {
   "cell_type": "code",
   "execution_count": 40,
   "id": "cf0bbf67",
   "metadata": {},
   "outputs": [
    {
     "ename": "NameError",
     "evalue": "name 'KNeighborsClassifier' is not defined",
     "output_type": "error",
     "traceback": [
      "\u001b[1;31m---------------------------------------------------------------------------\u001b[0m",
      "\u001b[1;31mNameError\u001b[0m                                 Traceback (most recent call last)",
      "Cell \u001b[1;32mIn[40], line 2\u001b[0m\n\u001b[0;32m      1\u001b[0m \u001b[38;5;28;01mfor\u001b[39;00m i, k \u001b[38;5;129;01min\u001b[39;00m \u001b[38;5;28menumerate\u001b[39m(neighbors):\n\u001b[1;32m----> 2\u001b[0m        kNN \u001b[38;5;241m=\u001b[39m KNeighborsClassifier(n_neighbors \u001b[38;5;241m=\u001b[39m k)\n",
      "\u001b[1;31mNameError\u001b[0m: name 'KNeighborsClassifier' is not defined"
     ]
    }
   ],
   "source": [
    "for i, k in enumerate(neighbors):\n",
    "       kNN = KNeighborsClassifier(n_neighbors = k) "
   ]
  },
  {
   "cell_type": "code",
   "execution_count": null,
   "id": "7dcbd71a",
   "metadata": {},
   "outputs": [],
   "source": [
    "kNN.fit(X_train, y_train)"
   ]
  },
  {
   "cell_type": "code",
   "execution_count": null,
   "id": "98c6ec1a",
   "metadata": {},
   "outputs": [],
   "source": [
    "train_accuracy[i] = kNN.score(X_train, y_train)"
   ]
  },
  {
   "cell_type": "code",
   "execution_count": null,
   "id": "c7759a5c",
   "metadata": {},
   "outputs": [],
   "source": [
    "test_accuracy[i] = kNN.score(X_test, y_test)"
   ]
  },
  {
   "cell_type": "code",
   "execution_count": null,
   "id": "fcf9e831",
   "metadata": {},
   "outputs": [],
   "source": [
    "import matplotlib.pyplot as plt\n",
    "\n",
    "plt.figure(figsize = (10, 6))\n",
    "plt.title('KNN accuracy with varying number of neighbors', fontsize = 20)\n",
    "plt.plot(neighbors, test_accuracy, label = 'Testing Accuracy')\n",
    "plt.plot(neighbors, train_accuracy, label = 'Training accuracy')\n",
    "plt.legend(prop={'size': 20})\n",
    "plt.xlabel('Number of neighbors', fontsize = 20)\n",
    "plt.ylabel('Accuracy', fontsize = 20)\n",
    "plt.xticks(fontsize = 20)\n",
    "plt.yticks(fontsize = 20)\n",
    "plt.show()"
   ]
  },
  {
   "cell_type": "code",
   "execution_count": null,
   "id": "1ef31f2e",
   "metadata": {},
   "outputs": [],
   "source": [
    "graficar la matrix de confusion"
   ]
  },
  {
   "cell_type": "code",
   "execution_count": null,
   "id": "331d0b25",
   "metadata": {},
   "outputs": [],
   "source": []
  },
  {
   "cell_type": "code",
   "execution_count": null,
   "id": "e7254e46",
   "metadata": {},
   "outputs": [],
   "source": []
  },
  {
   "cell_type": "code",
   "execution_count": null,
   "id": "2dfbc2fc",
   "metadata": {},
   "outputs": [],
   "source": []
  },
  {
   "cell_type": "markdown",
   "id": "e9557ca3",
   "metadata": {},
   "source": [
    "Calculating the accuracy of the SVM model"
   ]
  },
  {
   "cell_type": "code",
   "execution_count": null,
   "id": "0882c5d7",
   "metadata": {},
   "outputs": [],
   "source": [
    "from sklearn.svm import SVC\n",
    "from sklearn.metrics import accuracy_score\n",
    "\n",
    "svm_classifier = SVC(kernel='linear', random_state=42)\n",
    "\n",
    "svm_classifier.fit(X_train, y_train)\n",
    "\n",
    "y_pred_svm = svm_classifier.predict(X_test)\n",
    "\n",
    "# Calculating the accuracy of the SVM model\n",
    "accuracy_svm = accuracy_score(y_test, y_pred_svm)\n",
    "print(f'Accuracy of SVM: {accuracy_svm:.2f}')"
   ]
  },
  {
   "cell_type": "markdown",
   "id": "f0ef3ed1",
   "metadata": {},
   "source": [
    "Plotting the accuracy of the SVM model"
   ]
  },
  {
   "cell_type": "code",
   "execution_count": null,
   "id": "a0333d88",
   "metadata": {},
   "outputs": [],
   "source": [
    "plt.figure(figsize=(8, 5))\n",
    "plt.bar(['Naive Bayes', 'Random Forest', 'SVM'], [accuracy, accuracy_rf, accuracy_svm], color=['blue', 'green', 'red'])\n",
    "plt.ylabel('Accuracy')\n",
    "plt.title('Comparison of Model Accuracies')\n",
    "plt.ylim([0, 1])\n",
    "plt.show()"
   ]
  },
  {
   "cell_type": "code",
   "execution_count": null,
   "id": "2da6f9ef",
   "metadata": {},
   "outputs": [],
   "source": [
    "Plotting the distribution of predictions by SVM"
   ]
  },
  {
   "cell_type": "code",
   "execution_count": null,
   "id": "8f885a17",
   "metadata": {},
   "outputs": [],
   "source": [
    "plt.figure(figsize=(8, 5))\n",
    "sns.countplot(y_pred_svm)\n",
    "plt.title('Distribution of Predicted Classes by SVM')\n",
    "plt.xlabel('Classes')\n",
    "plt.ylabel('Count')\n",
    "plt.show()"
   ]
  },
  {
   "cell_type": "markdown",
   "id": "63b4eafd",
   "metadata": {},
   "source": [
    "# Conclusion"
   ]
  },
  {
   "cell_type": "markdown",
   "id": "42085651",
   "metadata": {},
   "source": [
    "The methodology involves segmentation to identify areas of abandonment based on year of construction and renovation history. Additionally, the study uses support vector machine (SVM) models to predict house prices, considering factors such as location, size, and age of the property."
   ]
  },
  {
   "cell_type": "markdown",
   "id": "ed6605e8",
   "metadata": {},
   "source": [
    "# Reference"
   ]
  },
  {
   "cell_type": "markdown",
   "id": "da26b8b2",
   "metadata": {},
   "source": [
    "Housing price of Beijing from 2011 to 2017, fetching from https://www.kaggle.com/datasets/ruiqurm/lianjia\n",
    "\n",
    "Alberca, A. S. (2020, October 4). La librería Matplotlib | Aprende con Alf.\n",
    "Aprende Con Alf. https://aprendeconalf.es/docencia/python/manual/matplotlib/\n",
    "\n",
    "Kuzminska, O. (2021). Selecting tools to enhance scholarly communication through the life cycle of scientific research. Educational Technology Quarterly, 2021(3), 402–414. https://doi.org/10.55056/etq.19\n"
   ]
  }
 ],
 "metadata": {
  "kernelspec": {
   "display_name": "Python 3 (ipykernel)",
   "language": "python",
   "name": "python3"
  },
  "language_info": {
   "codemirror_mode": {
    "name": "ipython",
    "version": 3
   },
   "file_extension": ".py",
   "mimetype": "text/x-python",
   "name": "python",
   "nbconvert_exporter": "python",
   "pygments_lexer": "ipython3",
   "version": "3.11.7"
  }
 },
 "nbformat": 4,
 "nbformat_minor": 5
}
