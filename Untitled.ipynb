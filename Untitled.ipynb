{
 "cells": [
  {
   "cell_type": "markdown",
   "id": "b0c99805-d2b0-4641-9a55-78b4142dae43",
   "metadata": {},
   "source": [
    "# Load Libraries"
   ]
  },
  {
   "cell_type": "code",
   "execution_count": 1,
   "id": "0ce631b7-0bea-4d50-b411-7d0619a80e5f",
   "metadata": {},
   "outputs": [],
   "source": [
    "import pandas as pd\n",
    "import matplotlib.pyplot as plt\n",
    "import sklearn.preprocessing as preproc\n",
    "import seaborn as sns"
   ]
  },
  {
   "cell_type": "markdown",
   "id": "d53b2169-cfb9-4dba-81bb-50f8be96f955",
   "metadata": {},
   "source": [
    "# Reading the Data"
   ]
  },
  {
   "cell_type": "markdown",
   "id": "09bb3cec-f9ec-46a1-9acb-ce6c0951c2f2",
   "metadata": {},
   "source": [
    "#Due to the fact that the original csv file had some chinese characters \n",
    "we use latin1 file encoding rather than the default type"
   ]
  },
  {
   "cell_type": "code",
   "execution_count": 2,
   "id": "bf4cca6a-6f18-4d03-83c9-3be0d902da9c",
   "metadata": {},
   "outputs": [
    {
     "name": "stderr",
     "output_type": "stream",
     "text": [
      "C:\\Users\\monte\\AppData\\Local\\Temp\\ipykernel_11928\\2380807761.py:1: DtypeWarning: Columns (1,11,12,14) have mixed types. Specify dtype option on import or set low_memory=False.\n",
      "  data = pd.read_csv(\"new.csv\", encoding=\"latin1\")\n"
     ]
    },
    {
     "data": {
      "text/html": [
       "<div>\n",
       "<style scoped>\n",
       "    .dataframe tbody tr th:only-of-type {\n",
       "        vertical-align: middle;\n",
       "    }\n",
       "\n",
       "    .dataframe tbody tr th {\n",
       "        vertical-align: top;\n",
       "    }\n",
       "\n",
       "    .dataframe thead th {\n",
       "        text-align: right;\n",
       "    }\n",
       "</style>\n",
       "<table border=\"1\" class=\"dataframe\">\n",
       "  <thead>\n",
       "    <tr style=\"text-align: right;\">\n",
       "      <th></th>\n",
       "      <th>url</th>\n",
       "      <th>id</th>\n",
       "      <th>Lng</th>\n",
       "      <th>Lat</th>\n",
       "      <th>Cid</th>\n",
       "      <th>tradeTime</th>\n",
       "      <th>DOM</th>\n",
       "      <th>followers</th>\n",
       "      <th>totalPrice</th>\n",
       "      <th>price</th>\n",
       "      <th>...</th>\n",
       "      <th>buildingType</th>\n",
       "      <th>constructionTime</th>\n",
       "      <th>renovationCondition</th>\n",
       "      <th>buildingStructure</th>\n",
       "      <th>ladderRatio</th>\n",
       "      <th>elevator</th>\n",
       "      <th>fiveYearsProperty</th>\n",
       "      <th>subway</th>\n",
       "      <th>district</th>\n",
       "      <th>communityAverage</th>\n",
       "    </tr>\n",
       "  </thead>\n",
       "  <tbody>\n",
       "    <tr>\n",
       "      <th>0</th>\n",
       "      <td>https://bj.lianjia.com/chengjiao/101084782030....</td>\n",
       "      <td>101085000000.0</td>\n",
       "      <td>116.475489</td>\n",
       "      <td>40.019520</td>\n",
       "      <td>1.111030e+12</td>\n",
       "      <td>09/08/2016</td>\n",
       "      <td>1464.0</td>\n",
       "      <td>106</td>\n",
       "      <td>415.0</td>\n",
       "      <td>31680</td>\n",
       "      <td>...</td>\n",
       "      <td>1.0</td>\n",
       "      <td>2005</td>\n",
       "      <td>3</td>\n",
       "      <td>6</td>\n",
       "      <td>0.217</td>\n",
       "      <td>1.0</td>\n",
       "      <td>0.0</td>\n",
       "      <td>1.0</td>\n",
       "      <td>7</td>\n",
       "      <td>56021.0</td>\n",
       "    </tr>\n",
       "    <tr>\n",
       "      <th>1</th>\n",
       "      <td>https://bj.lianjia.com/chengjiao/101086012217....</td>\n",
       "      <td>101086000000.0</td>\n",
       "      <td>116.453917</td>\n",
       "      <td>39.881534</td>\n",
       "      <td>1.111030e+12</td>\n",
       "      <td>28/07/2016</td>\n",
       "      <td>903.0</td>\n",
       "      <td>126</td>\n",
       "      <td>575.0</td>\n",
       "      <td>43436</td>\n",
       "      <td>...</td>\n",
       "      <td>1.0</td>\n",
       "      <td>2004</td>\n",
       "      <td>4</td>\n",
       "      <td>6</td>\n",
       "      <td>0.667</td>\n",
       "      <td>1.0</td>\n",
       "      <td>1.0</td>\n",
       "      <td>0.0</td>\n",
       "      <td>7</td>\n",
       "      <td>71539.0</td>\n",
       "    </tr>\n",
       "    <tr>\n",
       "      <th>2</th>\n",
       "      <td>https://bj.lianjia.com/chengjiao/101086041636....</td>\n",
       "      <td>101086000000.0</td>\n",
       "      <td>116.561978</td>\n",
       "      <td>39.877145</td>\n",
       "      <td>1.111040e+12</td>\n",
       "      <td>11/12/2016</td>\n",
       "      <td>1271.0</td>\n",
       "      <td>48</td>\n",
       "      <td>1030.0</td>\n",
       "      <td>52021</td>\n",
       "      <td>...</td>\n",
       "      <td>4.0</td>\n",
       "      <td>2005</td>\n",
       "      <td>3</td>\n",
       "      <td>6</td>\n",
       "      <td>0.500</td>\n",
       "      <td>1.0</td>\n",
       "      <td>0.0</td>\n",
       "      <td>0.0</td>\n",
       "      <td>7</td>\n",
       "      <td>48160.0</td>\n",
       "    </tr>\n",
       "    <tr>\n",
       "      <th>3</th>\n",
       "      <td>https://bj.lianjia.com/chengjiao/101086406841....</td>\n",
       "      <td>101086000000.0</td>\n",
       "      <td>116.438010</td>\n",
       "      <td>40.076114</td>\n",
       "      <td>1.111040e+12</td>\n",
       "      <td>30/09/2016</td>\n",
       "      <td>965.0</td>\n",
       "      <td>138</td>\n",
       "      <td>297.5</td>\n",
       "      <td>22202</td>\n",
       "      <td>...</td>\n",
       "      <td>1.0</td>\n",
       "      <td>2008</td>\n",
       "      <td>1</td>\n",
       "      <td>6</td>\n",
       "      <td>0.273</td>\n",
       "      <td>1.0</td>\n",
       "      <td>0.0</td>\n",
       "      <td>0.0</td>\n",
       "      <td>6</td>\n",
       "      <td>51238.0</td>\n",
       "    </tr>\n",
       "    <tr>\n",
       "      <th>4</th>\n",
       "      <td>https://bj.lianjia.com/chengjiao/101086920653....</td>\n",
       "      <td>101087000000.0</td>\n",
       "      <td>116.428392</td>\n",
       "      <td>39.886229</td>\n",
       "      <td>1.111030e+12</td>\n",
       "      <td>28/08/2016</td>\n",
       "      <td>927.0</td>\n",
       "      <td>286</td>\n",
       "      <td>392.0</td>\n",
       "      <td>48396</td>\n",
       "      <td>...</td>\n",
       "      <td>4.0</td>\n",
       "      <td>1960</td>\n",
       "      <td>2</td>\n",
       "      <td>2</td>\n",
       "      <td>0.333</td>\n",
       "      <td>0.0</td>\n",
       "      <td>1.0</td>\n",
       "      <td>1.0</td>\n",
       "      <td>1</td>\n",
       "      <td>62588.0</td>\n",
       "    </tr>\n",
       "  </tbody>\n",
       "</table>\n",
       "<p>5 rows × 26 columns</p>\n",
       "</div>"
      ],
      "text/plain": [
       "                                                 url              id  \\\n",
       "0  https://bj.lianjia.com/chengjiao/101084782030....  101085000000.0   \n",
       "1  https://bj.lianjia.com/chengjiao/101086012217....  101086000000.0   \n",
       "2  https://bj.lianjia.com/chengjiao/101086041636....  101086000000.0   \n",
       "3  https://bj.lianjia.com/chengjiao/101086406841....  101086000000.0   \n",
       "4  https://bj.lianjia.com/chengjiao/101086920653....  101087000000.0   \n",
       "\n",
       "          Lng        Lat           Cid   tradeTime     DOM  followers  \\\n",
       "0  116.475489  40.019520  1.111030e+12  09/08/2016  1464.0        106   \n",
       "1  116.453917  39.881534  1.111030e+12  28/07/2016   903.0        126   \n",
       "2  116.561978  39.877145  1.111040e+12  11/12/2016  1271.0         48   \n",
       "3  116.438010  40.076114  1.111040e+12  30/09/2016   965.0        138   \n",
       "4  116.428392  39.886229  1.111030e+12  28/08/2016   927.0        286   \n",
       "\n",
       "   totalPrice  price  ...  buildingType constructionTime renovationCondition  \\\n",
       "0       415.0  31680  ...           1.0             2005                   3   \n",
       "1       575.0  43436  ...           1.0             2004                   4   \n",
       "2      1030.0  52021  ...           4.0             2005                   3   \n",
       "3       297.5  22202  ...           1.0             2008                   1   \n",
       "4       392.0  48396  ...           4.0             1960                   2   \n",
       "\n",
       "   buildingStructure ladderRatio elevator  fiveYearsProperty subway  district  \\\n",
       "0                  6       0.217      1.0                0.0    1.0         7   \n",
       "1                  6       0.667      1.0                1.0    0.0         7   \n",
       "2                  6       0.500      1.0                0.0    0.0         7   \n",
       "3                  6       0.273      1.0                0.0    0.0         6   \n",
       "4                  2       0.333      0.0                1.0    1.0         1   \n",
       "\n",
       "   communityAverage  \n",
       "0           56021.0  \n",
       "1           71539.0  \n",
       "2           48160.0  \n",
       "3           51238.0  \n",
       "4           62588.0  \n",
       "\n",
       "[5 rows x 26 columns]"
      ]
     },
     "execution_count": 2,
     "metadata": {},
     "output_type": "execute_result"
    }
   ],
   "source": [
    "data = pd.read_csv(\"new.csv\", encoding=\"latin1\")\n",
    "data['floor'] = data['floor'].str.strip()\n",
    "data.head()"
   ]
  },
  {
   "cell_type": "markdown",
   "id": "0a6108a7-fb40-455c-a02c-ad00efd2ca08",
   "metadata": {},
   "source": [
    "#Column that only has URL data is removed"
   ]
  },
  {
   "cell_type": "code",
   "execution_count": 3,
   "id": "821409b9-1b49-40d7-b47a-ad008b684bd8",
   "metadata": {},
   "outputs": [],
   "source": [
    "data.drop('url', axis=1, inplace=True)\n",
    "data.drop('id', axis=1, inplace=True)\n",
    "data.drop('floor', axis=1, inplace=True)"
   ]
  },
  {
   "cell_type": "code",
   "execution_count": 4,
   "id": "cf0cee78-044a-4e57-9a66-c62466277445",
   "metadata": {},
   "outputs": [
    {
     "data": {
      "text/plain": [
       "<bound method DataFrame.info of                Lng        Lat           Cid   tradeTime     DOM  followers  \\\n",
       "0       116.475489  40.019520  1.111030e+12  09/08/2016  1464.0        106   \n",
       "1       116.453917  39.881534  1.111030e+12  28/07/2016   903.0        126   \n",
       "2       116.561978  39.877145  1.111040e+12  11/12/2016  1271.0         48   \n",
       "3       116.438010  40.076114  1.111040e+12  30/09/2016   965.0        138   \n",
       "4       116.428392  39.886229  1.111030e+12  28/08/2016   927.0        286   \n",
       "...            ...        ...           ...         ...     ...        ...   \n",
       "318846  116.546899  39.755236  1.111030e+12  10/06/2016     1.0          8   \n",
       "318847  116.497474  39.810115  1.111030e+12  10/06/2016     NaN          1   \n",
       "318848  116.497256  39.804081  1.111030e+12  05/06/2016     1.0          2   \n",
       "318849  116.501794  39.799347  1.111030e+12  12/06/2016     NaN          4   \n",
       "318850  116.497474  39.810115  1.111030e+12  11/06/2016     1.0          0   \n",
       "\n",
       "        totalPrice  price  square livingRoom  ... buildingType  \\\n",
       "0            415.0  31680  131.00          2  ...          1.0   \n",
       "1            575.0  43436  132.38          2  ...          1.0   \n",
       "2           1030.0  52021  198.00          3  ...          4.0   \n",
       "3            297.5  22202  134.00          3  ...          1.0   \n",
       "4            392.0  48396   81.00          2  ...          4.0   \n",
       "...            ...    ...     ...        ...  ...          ...   \n",
       "318846       350.0  20580  170.07          3  ...          4.0   \n",
       "318847       108.8  31006   35.09          1  ...          1.0   \n",
       "318848       359.0  35138  102.17          2  ...          4.0   \n",
       "318849       720.0  40373  178.34          4  ...          4.0   \n",
       "318850       450.0  48675   92.45          2  ...          4.0   \n",
       "\n",
       "        constructionTime renovationCondition  buildingStructure ladderRatio  \\\n",
       "0                   2005                   3                  6       0.217   \n",
       "1                   2004                   4                  6       0.667   \n",
       "2                   2005                   3                  6       0.500   \n",
       "3                   2008                   1                  6       0.273   \n",
       "4                   1960                   2                  2       0.333   \n",
       "...                  ...                 ...                ...         ...   \n",
       "318846              2003                   1                  6       0.333   \n",
       "318847              2009                   1                  6       0.222   \n",
       "318848              2000                   3                  6       0.500   \n",
       "318849              2003                   4                  2       0.500   \n",
       "318850              Î´Öª                   4                  6       1.000   \n",
       "\n",
       "        elevator  fiveYearsProperty  subway  district  communityAverage  \n",
       "0            1.0                0.0     1.0         7           56021.0  \n",
       "1            1.0                1.0     0.0         7           71539.0  \n",
       "2            1.0                0.0     0.0         7           48160.0  \n",
       "3            1.0                0.0     0.0         6           51238.0  \n",
       "4            0.0                1.0     1.0         1           62588.0  \n",
       "...          ...                ...     ...       ...               ...  \n",
       "318846       0.0                1.0     0.0         3           36545.0  \n",
       "318847       1.0                0.0     1.0         3           54282.0  \n",
       "318848       1.0                1.0     0.0         3           46927.0  \n",
       "318849       0.0                1.0     0.0         3           54842.0  \n",
       "318850       1.0                0.0     1.0         3           54282.0  \n",
       "\n",
       "[318851 rows x 23 columns]>"
      ]
     },
     "execution_count": 4,
     "metadata": {},
     "output_type": "execute_result"
    }
   ],
   "source": [
    "data.info"
   ]
  },
  {
   "cell_type": "code",
   "execution_count": 5,
   "id": "5c61f921-3096-4f8b-a201-dc8c251ee3de",
   "metadata": {},
   "outputs": [],
   "source": [
    "data.loc[:, 'livingRoom'] = pd.to_numeric(data['livingRoom'], errors='coerce')\n",
    "data.loc[:, 'drawingRoom'] = pd.to_numeric(data['drawingRoom'], errors='coerce')\n",
    "data.loc[:, 'bathRoom'] = pd.to_numeric(data['bathRoom'], errors='coerce')"
   ]
  },
  {
   "cell_type": "code",
   "execution_count": 6,
   "id": "ca54b33b-6e15-4b29-8755-f26a544b97b6",
   "metadata": {},
   "outputs": [
    {
     "name": "stdout",
     "output_type": "stream",
     "text": [
      "<class 'pandas.core.frame.DataFrame'>\n",
      "RangeIndex: 318851 entries, 0 to 318850\n",
      "Data columns (total 23 columns):\n",
      " #   Column               Non-Null Count   Dtype  \n",
      "---  ------               --------------   -----  \n",
      " 0   Lng                  318851 non-null  float64\n",
      " 1   Lat                  318851 non-null  float64\n",
      " 2   Cid                  318851 non-null  float64\n",
      " 3   tradeTime            318851 non-null  object \n",
      " 4   DOM                  160874 non-null  float64\n",
      " 5   followers            318851 non-null  int64  \n",
      " 6   totalPrice           318851 non-null  float64\n",
      " 7   price                318851 non-null  int64  \n",
      " 8   square               318851 non-null  float64\n",
      " 9   livingRoom           318819 non-null  object \n",
      " 10  drawingRoom          318819 non-null  object \n",
      " 11  kitchen              318851 non-null  int64  \n",
      " 12  bathRoom             318849 non-null  object \n",
      " 13  buildingType         316830 non-null  float64\n",
      " 14  constructionTime     318851 non-null  object \n",
      " 15  renovationCondition  318851 non-null  int64  \n",
      " 16  buildingStructure    318851 non-null  int64  \n",
      " 17  ladderRatio          318851 non-null  float64\n",
      " 18  elevator             318819 non-null  float64\n",
      " 19  fiveYearsProperty    318819 non-null  float64\n",
      " 20  subway               318819 non-null  float64\n",
      " 21  district             318851 non-null  int64  \n",
      " 22  communityAverage     318388 non-null  float64\n",
      "dtypes: float64(12), int64(6), object(5)\n",
      "memory usage: 56.0+ MB\n"
     ]
    }
   ],
   "source": [
    "data.info()"
   ]
  },
  {
   "cell_type": "code",
   "execution_count": 7,
   "id": "85b4fa39-1c07-4c06-a2ad-a6e3c2e5067b",
   "metadata": {},
   "outputs": [
    {
     "data": {
      "text/html": [
       "<div>\n",
       "<style scoped>\n",
       "    .dataframe tbody tr th:only-of-type {\n",
       "        vertical-align: middle;\n",
       "    }\n",
       "\n",
       "    .dataframe tbody tr th {\n",
       "        vertical-align: top;\n",
       "    }\n",
       "\n",
       "    .dataframe thead th {\n",
       "        text-align: right;\n",
       "    }\n",
       "</style>\n",
       "<table border=\"1\" class=\"dataframe\">\n",
       "  <thead>\n",
       "    <tr style=\"text-align: right;\">\n",
       "      <th></th>\n",
       "      <th>Lng</th>\n",
       "      <th>Lat</th>\n",
       "      <th>Cid</th>\n",
       "      <th>DOM</th>\n",
       "      <th>followers</th>\n",
       "      <th>totalPrice</th>\n",
       "      <th>price</th>\n",
       "      <th>square</th>\n",
       "      <th>kitchen</th>\n",
       "      <th>buildingType</th>\n",
       "      <th>renovationCondition</th>\n",
       "      <th>buildingStructure</th>\n",
       "      <th>ladderRatio</th>\n",
       "      <th>elevator</th>\n",
       "      <th>fiveYearsProperty</th>\n",
       "      <th>subway</th>\n",
       "      <th>district</th>\n",
       "      <th>communityAverage</th>\n",
       "    </tr>\n",
       "  </thead>\n",
       "  <tbody>\n",
       "    <tr>\n",
       "      <th>count</th>\n",
       "      <td>318851.000000</td>\n",
       "      <td>318851.000000</td>\n",
       "      <td>3.188510e+05</td>\n",
       "      <td>160874.000000</td>\n",
       "      <td>318851.000000</td>\n",
       "      <td>318851.000000</td>\n",
       "      <td>318851.000000</td>\n",
       "      <td>318851.000000</td>\n",
       "      <td>318851.000000</td>\n",
       "      <td>316830.000000</td>\n",
       "      <td>318851.000000</td>\n",
       "      <td>318851.000000</td>\n",
       "      <td>3.188510e+05</td>\n",
       "      <td>318819.000000</td>\n",
       "      <td>318819.000000</td>\n",
       "      <td>318819.000000</td>\n",
       "      <td>318851.000000</td>\n",
       "      <td>318388.000000</td>\n",
       "    </tr>\n",
       "    <tr>\n",
       "      <th>mean</th>\n",
       "      <td>116.418459</td>\n",
       "      <td>39.949591</td>\n",
       "      <td>1.129116e+12</td>\n",
       "      <td>28.822339</td>\n",
       "      <td>16.731508</td>\n",
       "      <td>349.030201</td>\n",
       "      <td>43530.436379</td>\n",
       "      <td>83.240597</td>\n",
       "      <td>0.994599</td>\n",
       "      <td>3.009790</td>\n",
       "      <td>2.606330</td>\n",
       "      <td>4.451026</td>\n",
       "      <td>6.316486e+01</td>\n",
       "      <td>0.577055</td>\n",
       "      <td>0.645601</td>\n",
       "      <td>0.601112</td>\n",
       "      <td>6.763564</td>\n",
       "      <td>63682.446305</td>\n",
       "    </tr>\n",
       "    <tr>\n",
       "      <th>std</th>\n",
       "      <td>0.112054</td>\n",
       "      <td>0.091983</td>\n",
       "      <td>2.363446e+12</td>\n",
       "      <td>50.237343</td>\n",
       "      <td>34.209185</td>\n",
       "      <td>230.780778</td>\n",
       "      <td>21709.024204</td>\n",
       "      <td>37.234661</td>\n",
       "      <td>0.109609</td>\n",
       "      <td>1.269857</td>\n",
       "      <td>1.311739</td>\n",
       "      <td>1.901753</td>\n",
       "      <td>2.506851e+04</td>\n",
       "      <td>0.494028</td>\n",
       "      <td>0.478331</td>\n",
       "      <td>0.489670</td>\n",
       "      <td>2.812616</td>\n",
       "      <td>22329.215447</td>\n",
       "    </tr>\n",
       "    <tr>\n",
       "      <th>min</th>\n",
       "      <td>116.072514</td>\n",
       "      <td>39.627030</td>\n",
       "      <td>1.111030e+12</td>\n",
       "      <td>1.000000</td>\n",
       "      <td>0.000000</td>\n",
       "      <td>0.100000</td>\n",
       "      <td>1.000000</td>\n",
       "      <td>6.900000</td>\n",
       "      <td>0.000000</td>\n",
       "      <td>0.048000</td>\n",
       "      <td>0.000000</td>\n",
       "      <td>0.000000</td>\n",
       "      <td>0.000000e+00</td>\n",
       "      <td>0.000000</td>\n",
       "      <td>0.000000</td>\n",
       "      <td>0.000000</td>\n",
       "      <td>1.000000</td>\n",
       "      <td>10847.000000</td>\n",
       "    </tr>\n",
       "    <tr>\n",
       "      <th>25%</th>\n",
       "      <td>116.344985</td>\n",
       "      <td>39.893200</td>\n",
       "      <td>1.111030e+12</td>\n",
       "      <td>1.000000</td>\n",
       "      <td>0.000000</td>\n",
       "      <td>205.000000</td>\n",
       "      <td>28050.000000</td>\n",
       "      <td>57.900000</td>\n",
       "      <td>1.000000</td>\n",
       "      <td>1.000000</td>\n",
       "      <td>1.000000</td>\n",
       "      <td>2.000000</td>\n",
       "      <td>2.500000e-01</td>\n",
       "      <td>0.000000</td>\n",
       "      <td>0.000000</td>\n",
       "      <td>0.000000</td>\n",
       "      <td>6.000000</td>\n",
       "      <td>46339.000000</td>\n",
       "    </tr>\n",
       "    <tr>\n",
       "      <th>50%</th>\n",
       "      <td>116.416780</td>\n",
       "      <td>39.934527</td>\n",
       "      <td>1.111030e+12</td>\n",
       "      <td>6.000000</td>\n",
       "      <td>5.000000</td>\n",
       "      <td>294.000000</td>\n",
       "      <td>38737.000000</td>\n",
       "      <td>74.260000</td>\n",
       "      <td>1.000000</td>\n",
       "      <td>4.000000</td>\n",
       "      <td>3.000000</td>\n",
       "      <td>6.000000</td>\n",
       "      <td>3.330000e-01</td>\n",
       "      <td>1.000000</td>\n",
       "      <td>1.000000</td>\n",
       "      <td>1.000000</td>\n",
       "      <td>7.000000</td>\n",
       "      <td>59015.000000</td>\n",
       "    </tr>\n",
       "    <tr>\n",
       "      <th>75%</th>\n",
       "      <td>116.477581</td>\n",
       "      <td>40.003018</td>\n",
       "      <td>1.111030e+12</td>\n",
       "      <td>37.000000</td>\n",
       "      <td>18.000000</td>\n",
       "      <td>425.500000</td>\n",
       "      <td>53819.500000</td>\n",
       "      <td>98.710000</td>\n",
       "      <td>1.000000</td>\n",
       "      <td>4.000000</td>\n",
       "      <td>4.000000</td>\n",
       "      <td>6.000000</td>\n",
       "      <td>5.000000e-01</td>\n",
       "      <td>1.000000</td>\n",
       "      <td>1.000000</td>\n",
       "      <td>1.000000</td>\n",
       "      <td>8.000000</td>\n",
       "      <td>75950.000000</td>\n",
       "    </tr>\n",
       "    <tr>\n",
       "      <th>max</th>\n",
       "      <td>116.732378</td>\n",
       "      <td>40.252758</td>\n",
       "      <td>1.114620e+15</td>\n",
       "      <td>1677.000000</td>\n",
       "      <td>1143.000000</td>\n",
       "      <td>18130.000000</td>\n",
       "      <td>156250.000000</td>\n",
       "      <td>1745.500000</td>\n",
       "      <td>4.000000</td>\n",
       "      <td>4.000000</td>\n",
       "      <td>4.000000</td>\n",
       "      <td>6.000000</td>\n",
       "      <td>1.000940e+07</td>\n",
       "      <td>1.000000</td>\n",
       "      <td>1.000000</td>\n",
       "      <td>1.000000</td>\n",
       "      <td>13.000000</td>\n",
       "      <td>183109.000000</td>\n",
       "    </tr>\n",
       "  </tbody>\n",
       "</table>\n",
       "</div>"
      ],
      "text/plain": [
       "                 Lng            Lat           Cid            DOM  \\\n",
       "count  318851.000000  318851.000000  3.188510e+05  160874.000000   \n",
       "mean      116.418459      39.949591  1.129116e+12      28.822339   \n",
       "std         0.112054       0.091983  2.363446e+12      50.237343   \n",
       "min       116.072514      39.627030  1.111030e+12       1.000000   \n",
       "25%       116.344985      39.893200  1.111030e+12       1.000000   \n",
       "50%       116.416780      39.934527  1.111030e+12       6.000000   \n",
       "75%       116.477581      40.003018  1.111030e+12      37.000000   \n",
       "max       116.732378      40.252758  1.114620e+15    1677.000000   \n",
       "\n",
       "           followers     totalPrice          price         square  \\\n",
       "count  318851.000000  318851.000000  318851.000000  318851.000000   \n",
       "mean       16.731508     349.030201   43530.436379      83.240597   \n",
       "std        34.209185     230.780778   21709.024204      37.234661   \n",
       "min         0.000000       0.100000       1.000000       6.900000   \n",
       "25%         0.000000     205.000000   28050.000000      57.900000   \n",
       "50%         5.000000     294.000000   38737.000000      74.260000   \n",
       "75%        18.000000     425.500000   53819.500000      98.710000   \n",
       "max      1143.000000   18130.000000  156250.000000    1745.500000   \n",
       "\n",
       "             kitchen   buildingType  renovationCondition  buildingStructure  \\\n",
       "count  318851.000000  316830.000000        318851.000000      318851.000000   \n",
       "mean        0.994599       3.009790             2.606330           4.451026   \n",
       "std         0.109609       1.269857             1.311739           1.901753   \n",
       "min         0.000000       0.048000             0.000000           0.000000   \n",
       "25%         1.000000       1.000000             1.000000           2.000000   \n",
       "50%         1.000000       4.000000             3.000000           6.000000   \n",
       "75%         1.000000       4.000000             4.000000           6.000000   \n",
       "max         4.000000       4.000000             4.000000           6.000000   \n",
       "\n",
       "        ladderRatio       elevator  fiveYearsProperty         subway  \\\n",
       "count  3.188510e+05  318819.000000      318819.000000  318819.000000   \n",
       "mean   6.316486e+01       0.577055           0.645601       0.601112   \n",
       "std    2.506851e+04       0.494028           0.478331       0.489670   \n",
       "min    0.000000e+00       0.000000           0.000000       0.000000   \n",
       "25%    2.500000e-01       0.000000           0.000000       0.000000   \n",
       "50%    3.330000e-01       1.000000           1.000000       1.000000   \n",
       "75%    5.000000e-01       1.000000           1.000000       1.000000   \n",
       "max    1.000940e+07       1.000000           1.000000       1.000000   \n",
       "\n",
       "            district  communityAverage  \n",
       "count  318851.000000     318388.000000  \n",
       "mean        6.763564      63682.446305  \n",
       "std         2.812616      22329.215447  \n",
       "min         1.000000      10847.000000  \n",
       "25%         6.000000      46339.000000  \n",
       "50%         7.000000      59015.000000  \n",
       "75%         8.000000      75950.000000  \n",
       "max        13.000000     183109.000000  "
      ]
     },
     "execution_count": 7,
     "metadata": {},
     "output_type": "execute_result"
    }
   ],
   "source": [
    "data.describe()"
   ]
  },
  {
   "cell_type": "markdown",
   "id": "a4d5cb95-4ff4-4005-8084-543ed81a5043",
   "metadata": {},
   "source": [
    "# Missing Data "
   ]
  },
  {
   "cell_type": "markdown",
   "id": "85f3cbd6-94d6-48fa-8f72-d6eb5ec2e228",
   "metadata": {},
   "source": [
    "# Calculate the number of missing values ​​per variable"
   ]
  },
  {
   "cell_type": "code",
   "execution_count": 8,
   "id": "29a6cbaf-17a0-42bd-ae28-e5ada346f287",
   "metadata": {},
   "outputs": [],
   "source": [
    "missing_counts = data.isna().sum()\n",
    "missing_df = pd.DataFrame({'Variable': missing_counts.index, 'Value': missing_counts.values})\n",
    "missing_df = missing_df[missing_df['Value'] > 0]\n",
    "missing_df['Percentage'] = missing_df['Value'] / len(data)\n",
    "missing_df = missing_df.sort_values(by='Percentage', ascending=False)"
   ]
  },
  {
   "cell_type": "markdown",
   "id": "6c3e4193-4b41-4253-a8fa-b3a0ac784395",
   "metadata": {},
   "source": [
    "# Missing values ​​graph"
   ]
  },
  {
   "cell_type": "code",
   "execution_count": 9,
   "id": "a7e7380e-1f29-4d05-b216-b3198cb7d178",
   "metadata": {},
   "outputs": [
    {
     "data": {
      "image/png": "[encoded data removed]",
      "text/plain": [
       "<Figure size 1000x600 with 1 Axes>"
      ]
     },
     "metadata": {},
     "output_type": "display_data"
    }
   ],
   "source": [
    "plt.figure(figsize=(10, 6))\n",
    "plt.barh(missing_df['Variable'], missing_df['Percentage'], color='salmon')\n",
    "plt.xlabel('Percentage of Missing Values')\n",
    "plt.ylabel('Variable')\n",
    "plt.title('Missing Data by Variable')\n",
    "plt.show()"
   ]
  },
  {
   "cell_type": "code",
   "execution_count": 10,
   "id": "1dc93b66-8eda-4e9b-bbd1-391d189ee597",
   "metadata": {},
   "outputs": [
    {
     "data": {
      "text/plain": [
       "count    160874.000000\n",
       "mean         28.822339\n",
       "std          50.237343\n",
       "min           1.000000\n",
       "25%           1.000000\n",
       "50%           6.000000\n",
       "75%          37.000000\n",
       "max        1677.000000\n",
       "Name: DOM, dtype: float64"
      ]
     },
     "execution_count": 10,
     "metadata": {},
     "output_type": "execute_result"
    }
   ],
   "source": [
    "data['DOM'].describe()"
   ]
  },
  {
   "cell_type": "code",
   "execution_count": 11,
   "id": "4aeee2b2-e42c-492b-ad2c-76fc721c72a6",
   "metadata": {},
   "outputs": [],
   "source": [
    "import numpy as np\n",
    "mediana_DOM = np.nanmedian(data['DOM'])\n",
    "data['DOM'] = np.where(np.isnan(data['DOM']), mediana_DOM, data['DOM'])"
   ]
  },
  {
   "cell_type": "code",
   "execution_count": 12,
   "id": "d562a6d2-4c1a-4476-83b5-4d0eeac6f802",
   "metadata": {},
   "outputs": [],
   "source": [
    "mediana_buildingType = np.nanmedian(data['buildingType'])\n",
    "data['buildingType'] = np.where(np.isnan(data['buildingType']), mediana_DOM, data['buildingType'])"
   ]
  },
  {
   "cell_type": "code",
   "execution_count": 13,
   "id": "dad3f3b1-94f1-4168-9818-c1ed266755ac",
   "metadata": {},
   "outputs": [],
   "source": [
    "mediana_communityAverage = np.nanmedian(data['communityAverage'])\n",
    "data['communityAverage'] = np.where(np.isnan(data['communityAverage']), mediana_DOM, data['communityAverage'])"
   ]
  },
  {
   "cell_type": "code",
   "execution_count": 14,
   "id": "f9a1d028-69bf-4b45-b4dd-ddf14128e0e7",
   "metadata": {},
   "outputs": [
    {
     "name": "stderr",
     "output_type": "stream",
     "text": [
      "C:\\Users\\monte\\AppData\\Local\\Temp\\ipykernel_11928\\2668822703.py:2: DtypeWarning: Columns (1,11,12,14) have mixed types. Specify dtype option on import or set low_memory=False.\n",
      "  data = pd.read_csv('new.csv', encoding=\"latin1\", na_values=missing_value_formats)\n"
     ]
    }
   ],
   "source": [
    "missing_value_formats = [\"?\",\"NA\",\"Na\",\"NaN.\",\".NaN\",\"NaN\",\"nA\",\"na\",\"n.a\",\"n.a.\",\".n.a\",\"n/a\",\"nan\",\"--\",\"UnKnown\"]\n",
    "data = pd.read_csv('new.csv', encoding=\"latin1\", na_values=missing_value_formats)"
   ]
  },
  {
   "cell_type": "code",
   "execution_count": 15,
   "id": "ab07eb0c-419d-4a84-bc0f-98f6ed686f49",
   "metadata": {},
   "outputs": [
    {
     "data": {
      "text/plain": [
       "url                         0\n",
       "id                          0\n",
       "Lng                         0\n",
       "Lat                         0\n",
       "Cid                         0\n",
       "tradeTime                   0\n",
       "DOM                    157977\n",
       "followers                   0\n",
       "totalPrice                  0\n",
       "price                       0\n",
       "square                      0\n",
       "livingRoom                  0\n",
       "drawingRoom                 0\n",
       "kitchen                     0\n",
       "bathRoom                    0\n",
       "floor                       0\n",
       "buildingType             2021\n",
       "constructionTime            0\n",
       "renovationCondition         0\n",
       "buildingStructure           0\n",
       "ladderRatio                 0\n",
       "elevator                   32\n",
       "fiveYearsProperty          32\n",
       "subway                     32\n",
       "district                    0\n",
       "communityAverage          463\n",
       "dtype: int64"
      ]
     },
     "execution_count": 15,
     "metadata": {},
     "output_type": "execute_result"
    }
   ],
   "source": [
    "data.isnull().sum()"
   ]
  },
  {
   "cell_type": "code",
   "execution_count": 16,
   "id": "d9c5391a-ea6b-4be1-8d0f-1b0109094321",
   "metadata": {},
   "outputs": [],
   "source": [
    "data[\"elevator\"].fillna(0, inplace=True)         \n",
    "data[\"fiveYearsProperty\"].fillna(0, inplace=True) \n",
    "data[\"subway\"].fillna(0, inplace=True)"
   ]
  },
  {
   "cell_type": "code",
   "execution_count": 17,
   "id": "c4d5b7f9-51d6-4821-a9fc-151374df4e4e",
   "metadata": {},
   "outputs": [
    {
     "data": {
      "text/plain": [
       "url                         0\n",
       "id                          0\n",
       "Lng                         0\n",
       "Lat                         0\n",
       "Cid                         0\n",
       "tradeTime                   0\n",
       "DOM                    157977\n",
       "followers                   0\n",
       "totalPrice                  0\n",
       "price                       0\n",
       "square                      0\n",
       "livingRoom                  0\n",
       "drawingRoom                 0\n",
       "kitchen                     0\n",
       "bathRoom                    0\n",
       "floor                       0\n",
       "buildingType             2021\n",
       "constructionTime            0\n",
       "renovationCondition         0\n",
       "buildingStructure           0\n",
       "ladderRatio                 0\n",
       "elevator                    0\n",
       "fiveYearsProperty           0\n",
       "subway                      0\n",
       "district                    0\n",
       "communityAverage          463\n",
       "dtype: int64"
      ]
     },
     "execution_count": 17,
     "metadata": {},
     "output_type": "execute_result"
    }
   ],
   "source": [
    "data.isnull().sum()"
   ]
  },
  {
   "cell_type": "markdown",
   "id": "3225eef0-f59c-4979-a85d-d9e5f7bd1bb9",
   "metadata": {},
   "source": [
    "# Levels Assignement"
   ]
  },
  {
   "cell_type": "code",
   "execution_count": 18,
   "id": "f822dbb3-26d9-4521-b091-3c383c8a2790",
   "metadata": {},
   "outputs": [],
   "source": [
    "data_copy = data.copy()\n",
    "data_copy['buildingType'] = data_copy['buildingType'].replace({1: 'Tower', \n",
    "                                                               2: 'Bungalow', \n",
    "                                                               3: 'Plate/Tower', \n",
    "                                                               4: 'Plate'})"
   ]
  },
  {
   "cell_type": "code",
   "execution_count": 19,
   "id": "a1a3ef83-117e-424b-b912-adaa62db96ce",
   "metadata": {},
   "outputs": [],
   "source": [
    "data_copy['renovationCondition'] = data_copy['renovationCondition'].replace({ 1 : \"Other\",\n",
    "                                                                    2 : \"Rough\",\n",
    "                                                                    3 : \"Simplicity\",\n",
    "                                                                    4 : \"Hardcover\"})"
   ]
  },
  {
   "cell_type": "code",
   "execution_count": 20,
   "id": "4df609ab-efe7-40b2-a9e5-3bedcb300312",
   "metadata": {},
   "outputs": [],
   "source": [
    "data_copy['buildingStructure'] = data_copy['buildingStructure'].replace({ 1 : \"Unavailable\",\n",
    "                                                                    2 : \"Mixed\",\n",
    "                                                                    3 : \"Brick/Wood\",\n",
    "                                                                    4 : \"Brick/Concrete\",\n",
    "                                                                    5: \"Steel\",\n",
    "                                                                    6: \"Steel/Concrete\"})"
   ]
  },
  {
   "cell_type": "code",
   "execution_count": 21,
   "id": "f071d1da-c973-4d06-a55a-810e7f1bf266",
   "metadata": {},
   "outputs": [],
   "source": [
    "data_copy['elevator'] = data_copy['elevator'].replace({ 1 : \"Has_elevator\",\n",
    "                                                        2 : \"No_elevator\"})"
   ]
  },
  {
   "cell_type": "code",
   "execution_count": 22,
   "id": "2e5b22f1-741c-431f-9408-0b7551770bd8",
   "metadata": {},
   "outputs": [],
   "source": [
    "data_copy['subway'] = data_copy['subway'].replace({ 1 : \"Has_Subway\",\n",
    "                                                    2 : \"No_Subway\"})"
   ]
  },
  {
   "cell_type": "code",
   "execution_count": 23,
   "id": "e0aadc36-d830-4e44-8462-b8af0c6e00a7",
   "metadata": {},
   "outputs": [],
   "source": [
    "data_copy['fiveYearsProperty'] = data_copy['fiveYearsProperty'].replace({ 1 : \"Ownership < 5\",\n",
    "                                                                          2 : \"Ownership > 5\"})"
   ]
  },
  {
   "cell_type": "code",
   "execution_count": 24,
   "id": "10640c3c-53d9-4615-a6b7-1ad139c99c09",
   "metadata": {},
   "outputs": [],
   "source": [
    "data_copy['district'] = data_copy['district'].replace({ 1 : \"DongCheng\",\n",
    "                                                        2 : \"FengTai\",\n",
    "                                                        3 : \"DaXing\",\n",
    "                                                        4 : \"FaXing\",\n",
    "                                                        5 : \"FangShang\",\n",
    "                                                        6 : \"ChangPing\",\n",
    "                                                        7 : \"ChaoYang\",\n",
    "                                                        8 : \"HaiDian\",\n",
    "                                                        9 : \"ShiJingShan\",\n",
    "                                                       10 : \"XiCheng\",\n",
    "                                                       11 : \"TongZhou\",\n",
    "                                                       12 : \"ShunYi\",\n",
    "                                                       13 : \"MenTouGou\"})"
   ]
  },
  {
   "cell_type": "markdown",
   "id": "8d50dc3c-8e8f-4066-8cd5-7e388a026aa5",
   "metadata": {},
   "source": [
    "# Conversion of variables"
   ]
  },
  {
   "cell_type": "code",
   "execution_count": 25,
   "id": "7759490b-fa71-4b9f-ae63-def14a651906",
   "metadata": {},
   "outputs": [],
   "source": [
    "data2 = data.copy()\n",
    "group_categorical = ['buildingType','renovationCondition','buildingStructure',\n",
    "                     'elevator','subway','district']\n",
    "data2[group_categorical] = data2[group_categorical].astype('category')\n",
    "data2 = data2[pd.to_numeric(data2['constructionTime'], errors='coerce').notnull()]\n",
    "data2['constructionTime'] = pd.to_numeric(data2['constructionTime'])"
   ]
  },
  {
   "cell_type": "markdown",
   "id": "549cac90-a681-4633-a9f6-1706871cce03",
   "metadata": {},
   "source": [
    "#Calculate the number of missing values ​​per column"
   ]
  },
  {
   "cell_type": "code",
   "execution_count": 26,
   "id": "00500a67-f121-40d1-9a96-44a3115e9a95",
   "metadata": {},
   "outputs": [],
   "source": [
    "x3 = data2.isna().sum()\n",
    "missing = pd.DataFrame({'Variable': x3.index, 'Value': x3.values})\n",
    "missing = missing[missing['Value'] > 0]\n",
    "missing['Value'] = missing['Value'] / len(data2)"
   ]
  },
  {
   "cell_type": "code",
   "execution_count": 27,
   "id": "c35387ba-2cd9-495f-ab9c-4e6a9a71282e",
   "metadata": {},
   "outputs": [
    {
     "data": {
      "image/png": "[encoded data removed]",
      "text/plain": [
       "<Figure size 1000x600 with 1 Axes>"
      ]
     },
     "metadata": {},
     "output_type": "display_data"
    }
   ],
   "source": [
    "plt.figure(figsize=(10, 6))\n",
    "sns.barplot(x='Value', y='Variable', data=missing.sort_values(by='Value', ascending=False),\n",
    "            color='purple')\n",
    "plt.xlabel('Porcentaje de valores faltantes')\n",
    "plt.ylabel('Variable')\n",
    "plt.title('Porcentaje de valores faltantes por variable')\n",
    "plt.show()"
   ]
  },
  {
   "cell_type": "code",
   "execution_count": 28,
   "id": "a294a174-69ee-4d17-b9cb-f4fc02aa4d97",
   "metadata": {},
   "outputs": [
    {
     "name": "stdout",
     "output_type": "stream",
     "text": [
      "count    299568.000000\n",
      "mean       1999.002517\n",
      "std          22.443793\n",
      "min           0.000000\n",
      "25%        1994.000000\n",
      "50%        2001.000000\n",
      "75%        2006.000000\n",
      "max        2016.000000\n",
      "Name: constructionTime, dtype: float64\n"
     ]
    }
   ],
   "source": [
    "summary = data2['constructionTime'].describe()\n",
    "print(summary)"
   ]
  },
  {
   "cell_type": "code",
   "execution_count": 29,
   "id": "ca986fbe-92d8-4ae2-83f3-454fb5a6aaa4",
   "metadata": {},
   "outputs": [
    {
     "name": "stdout",
     "output_type": "stream",
     "text": [
      "url                    0\n",
      "id                     0\n",
      "Lng                    0\n",
      "Lat                    0\n",
      "Cid                    0\n",
      "tradeTime              0\n",
      "DOM                    0\n",
      "followers              0\n",
      "totalPrice             0\n",
      "price                  0\n",
      "square                 0\n",
      "livingRoom             0\n",
      "drawingRoom            0\n",
      "kitchen                0\n",
      "bathRoom               0\n",
      "floor                  0\n",
      "buildingType           0\n",
      "constructionTime       0\n",
      "renovationCondition    0\n",
      "buildingStructure      0\n",
      "ladderRatio            0\n",
      "elevator               0\n",
      "fiveYearsProperty      0\n",
      "subway                 0\n",
      "district               0\n",
      "communityAverage       0\n",
      "dtype: int64\n"
     ]
    }
   ],
   "source": [
    "data3 = data2.dropna()\n",
    "missing_values_count = data3.isna().sum()\n",
    "print(missing_values_count)"
   ]
  },
  {
   "cell_type": "code",
   "execution_count": 30,
   "id": "fed40ec1-1c75-4379-82a7-f01f6d59d375",
   "metadata": {},
   "outputs": [
    {
     "name": "stderr",
     "output_type": "stream",
     "text": [
      "C:\\Users\\monte\\AppData\\Local\\Temp\\ipykernel_11928\\4018131883.py:1: SettingWithCopyWarning: \n",
      "A value is trying to be set on a copy of a slice from a DataFrame\n",
      "\n",
      "See the caveats in the documentation: https://pandas.pydata.org/pandas-docs/stable/user_guide/indexing.html#returning-a-view-versus-a-copy\n",
      "  data3.drop('url', axis=1, inplace=True)\n",
      "C:\\Users\\monte\\AppData\\Local\\Temp\\ipykernel_11928\\4018131883.py:2: SettingWithCopyWarning: \n",
      "A value is trying to be set on a copy of a slice from a DataFrame\n",
      "\n",
      "See the caveats in the documentation: https://pandas.pydata.org/pandas-docs/stable/user_guide/indexing.html#returning-a-view-versus-a-copy\n",
      "  data3.drop('id', axis=1, inplace=True)\n",
      "C:\\Users\\monte\\AppData\\Local\\Temp\\ipykernel_11928\\4018131883.py:3: SettingWithCopyWarning: \n",
      "A value is trying to be set on a copy of a slice from a DataFrame\n",
      "\n",
      "See the caveats in the documentation: https://pandas.pydata.org/pandas-docs/stable/user_guide/indexing.html#returning-a-view-versus-a-copy\n",
      "  data3.drop('floor', axis=1, inplace=True)\n"
     ]
    }
   ],
   "source": [
    "data3.drop('url', axis=1, inplace=True)\n",
    "data3.drop('id', axis=1, inplace=True)\n",
    "data3.drop('floor', axis=1, inplace=True)"
   ]
  },
  {
   "cell_type": "code",
   "execution_count": 31,
   "id": "44bdbbb1-6d34-47cb-9bb2-4abf352f5166",
   "metadata": {},
   "outputs": [
    {
     "name": "stdout",
     "output_type": "stream",
     "text": [
      "<class 'pandas.core.frame.DataFrame'>\n",
      "Index: 152291 entries, 0 to 318848\n",
      "Data columns (total 23 columns):\n",
      " #   Column               Non-Null Count   Dtype   \n",
      "---  ------               --------------   -----   \n",
      " 0   Lng                  152291 non-null  float64 \n",
      " 1   Lat                  152291 non-null  float64 \n",
      " 2   Cid                  152291 non-null  float64 \n",
      " 3   tradeTime            152291 non-null  object  \n",
      " 4   DOM                  152291 non-null  float64 \n",
      " 5   followers            152291 non-null  int64   \n",
      " 6   totalPrice           152291 non-null  float64 \n",
      " 7   price                152291 non-null  int64   \n",
      " 8   square               152291 non-null  float64 \n",
      " 9   livingRoom           152291 non-null  object  \n",
      " 10  drawingRoom          152291 non-null  object  \n",
      " 11  kitchen              152291 non-null  int64   \n",
      " 12  bathRoom             152291 non-null  object  \n",
      " 13  buildingType         152291 non-null  category\n",
      " 14  constructionTime     152291 non-null  int64   \n",
      " 15  renovationCondition  152291 non-null  category\n",
      " 16  buildingStructure    152291 non-null  category\n",
      " 17  ladderRatio          152291 non-null  float64 \n",
      " 18  elevator             152291 non-null  category\n",
      " 19  fiveYearsProperty    152291 non-null  float64 \n",
      " 20  subway               152291 non-null  category\n",
      " 21  district             152291 non-null  category\n",
      " 22  communityAverage     152291 non-null  float64 \n",
      "dtypes: category(6), float64(9), int64(4), object(4)\n",
      "memory usage: 21.8+ MB\n",
      "None\n"
     ]
    }
   ],
   "source": [
    "print(data3.info())"
   ]
  },
  {
   "cell_type": "code",
   "execution_count": 33,
   "id": "78e881e4-7972-44a4-97c6-54cd4271db1e",
   "metadata": {},
   "outputs": [
    {
     "name": "stdout",
     "output_type": "stream",
     "text": [
      "livingRoom     False\n",
      "drawingRoom    False\n",
      "bathRoom       False\n",
      "dtype: bool\n"
     ]
    }
   ],
   "source": [
    "numeric_values = data3[['livingRoom', 'drawingRoom', 'bathRoom']].apply(lambda x: pd.to_numeric(x, errors='coerce').notnull().all())\n",
    "print(numeric_values)"
   ]
  },
  {
   "cell_type": "code",
   "execution_count": 34,
   "id": "cbeea23e-ef97-4f05-a84e-768f056805c0",
   "metadata": {},
   "outputs": [
    {
     "name": "stdout",
     "output_type": "stream",
     "text": [
      "<class 'pandas.core.frame.DataFrame'>\n",
      "Index: 152291 entries, 0 to 318848\n",
      "Data columns (total 23 columns):\n",
      " #   Column               Non-Null Count   Dtype   \n",
      "---  ------               --------------   -----   \n",
      " 0   Lng                  152291 non-null  float64 \n",
      " 1   Lat                  152291 non-null  float64 \n",
      " 2   Cid                  152291 non-null  float64 \n",
      " 3   tradeTime            152291 non-null  object  \n",
      " 4   DOM                  152291 non-null  float64 \n",
      " 5   followers            152291 non-null  int64   \n",
      " 6   totalPrice           152291 non-null  float64 \n",
      " 7   price                152291 non-null  int64   \n",
      " 8   square               152291 non-null  float64 \n",
      " 9   livingRoom           152291 non-null  object  \n",
      " 10  drawingRoom          152291 non-null  object  \n",
      " 11  kitchen              152291 non-null  int64   \n",
      " 12  bathRoom             152291 non-null  object  \n",
      " 13  buildingType         152291 non-null  category\n",
      " 14  constructionTime     152291 non-null  int64   \n",
      " 15  renovationCondition  152291 non-null  category\n",
      " 16  buildingStructure    152291 non-null  category\n",
      " 17  ladderRatio          152291 non-null  float64 \n",
      " 18  elevator             152291 non-null  category\n",
      " 19  fiveYearsProperty    152291 non-null  float64 \n",
      " 20  subway               152291 non-null  category\n",
      " 21  district             152291 non-null  category\n",
      " 22  communityAverage     152291 non-null  float64 \n",
      "dtypes: category(6), float64(9), int64(4), object(4)\n",
      "memory usage: 21.8+ MB\n",
      "None\n"
     ]
    }
   ],
   "source": [
    "print(data3.info())"
   ]
  },
  {
   "cell_type": "code",
   "execution_count": null,
   "id": "cb38ec0d-4010-4098-b8c9-c1ede0545200",
   "metadata": {},
   "outputs": [],
   "source": []
  },
  {
   "cell_type": "code",
   "execution_count": null,
   "id": "a3744607-9d92-4827-853b-af93c6e1f68f",
   "metadata": {},
   "outputs": [],
   "source": []
  }
 ],
 "metadata": {
  "kernelspec": {
   "display_name": "Python 3 (ipykernel)",
   "language": "python",
   "name": "python3"
  },
  "language_info": {
   "codemirror_mode": {
    "name": "ipython",
    "version": 3
   },
   "file_extension": ".py",
   "mimetype": "text/x-python",
   "name": "python",
   "nbconvert_exporter": "python",
   "pygments_lexer": "ipython3",
   "version": "3.11.7"
  }
 },
 "nbformat": 4,
 "nbformat_minor": 5
}
